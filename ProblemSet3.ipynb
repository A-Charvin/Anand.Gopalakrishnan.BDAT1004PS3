{
 "cells": [
  {
   "cell_type": "markdown",
   "metadata": {},
   "source": [
    "Question 1\n",
    "Introduction:\n",
    "Special thanks to: https://github.com/justmarkham for sharing the dataset and materials.\n",
    "\n",
    "Occupations\n",
    "\n",
    "Step 1. Import the necessary libraries\n",
    "\n",
    "Step 2. Import the dataset from this address. \n",
    "\n",
    "Step 3. Assign it to a variable called users\n",
    "\n",
    "Step 4. Discover what is the mean age per occupation\n",
    "\n",
    "Step 5. Discover the Male ratio per occupation and sort it from the most to the least \n",
    "\n",
    "Step 6. For each occupation, calculate the minimum and maximum ages\n",
    "\n",
    "Step 7. For each combination of occupation and sex, calculate the mean age\n",
    "\n",
    "Step 8. For each occupation present the percentage of women and men\n",
    "\n",
    "[Dataset Link](https://raw.githubusercontent.com/justmarkham/DAT8/master/data/u.user).\n",
    " "
   ]
  },
  {
   "cell_type": "code",
   "execution_count": 1,
   "metadata": {},
   "outputs": [],
   "source": [
    "# Step 1. Import the necessary libraries\n",
    "import pandas as pd"
   ]
  },
  {
   "cell_type": "code",
   "execution_count": 2,
   "metadata": {},
   "outputs": [],
   "source": [
    "# Step 2. Import the dataset from the given address\n",
    "url = \"https://raw.githubusercontent.com/justmarkham/DAT8/master/data/u.user\"\n",
    "users = pd.read_csv(url, sep='|', index_col='user_id')"
   ]
  },
  {
   "cell_type": "code",
   "execution_count": 3,
   "metadata": {},
   "outputs": [
    {
     "name": "stdout",
     "output_type": "stream",
     "text": [
      "Mean Age per Occupation:\n",
      " occupation\n",
      "administrator    38.746835\n",
      "artist           31.392857\n",
      "doctor           43.571429\n",
      "educator         42.010526\n",
      "engineer         36.388060\n",
      "entertainment    29.222222\n",
      "executive        38.718750\n",
      "healthcare       41.562500\n",
      "homemaker        32.571429\n",
      "lawyer           36.750000\n",
      "librarian        40.000000\n",
      "marketing        37.615385\n",
      "none             26.555556\n",
      "other            34.523810\n",
      "programmer       33.121212\n",
      "retired          63.071429\n",
      "salesman         35.666667\n",
      "scientist        35.548387\n",
      "student          22.081633\n",
      "technician       33.148148\n",
      "writer           36.311111\n",
      "Name: age, dtype: float64\n"
     ]
    }
   ],
   "source": [
    "# Step 3. Discover what is the mean age per occupation\n",
    "mean_age_per_occupation = users.groupby('occupation')['age'].mean()\n",
    "print(\"Mean Age per Occupation:\\n\", mean_age_per_occupation)"
   ]
  },
  {
   "cell_type": "code",
   "execution_count": 4,
   "metadata": {},
   "outputs": [
    {
     "name": "stdout",
     "output_type": "stream",
     "text": [
      "Male Ratio per Occupation (sorted):\n",
      " occupation\n",
      "doctor           1.000000\n",
      "engineer         0.970149\n",
      "technician       0.962963\n",
      "retired          0.928571\n",
      "programmer       0.909091\n",
      "executive        0.906250\n",
      "scientist        0.903226\n",
      "entertainment    0.888889\n",
      "lawyer           0.833333\n",
      "salesman         0.750000\n",
      "educator         0.726316\n",
      "student          0.693878\n",
      "other            0.657143\n",
      "marketing        0.615385\n",
      "writer           0.577778\n",
      "none             0.555556\n",
      "administrator    0.544304\n",
      "artist           0.535714\n",
      "librarian        0.431373\n",
      "healthcare       0.312500\n",
      "homemaker        0.142857\n",
      "Name: gender, dtype: float64\n"
     ]
    }
   ],
   "source": [
    "# Step 4. Discover the Male ratio per occupation and sort it from the most to the least\n",
    "def male_ratio(group):\n",
    "    return (group == 'M').sum() / group.size\n",
    "\n",
    "male_ratio_per_occupation = users.groupby('occupation')['gender'].apply(male_ratio).sort_values(ascending=False)\n",
    "print(\"Male Ratio per Occupation (sorted):\\n\", male_ratio_per_occupation)"
   ]
  },
  {
   "cell_type": "code",
   "execution_count": 5,
   "metadata": {},
   "outputs": [
    {
     "name": "stdout",
     "output_type": "stream",
     "text": [
      "Minimum and Maximum Ages per Occupation:\n",
      "                min  max\n",
      "occupation             \n",
      "administrator   21   70\n",
      "artist          19   48\n",
      "doctor          28   64\n",
      "educator        23   63\n",
      "engineer        22   70\n",
      "entertainment   15   50\n",
      "executive       22   69\n",
      "healthcare      22   62\n",
      "homemaker       20   50\n",
      "lawyer          21   53\n",
      "librarian       23   69\n",
      "marketing       24   55\n",
      "none            11   55\n",
      "other           13   64\n",
      "programmer      20   63\n",
      "retired         51   73\n",
      "salesman        18   66\n",
      "scientist       23   55\n",
      "student          7   42\n",
      "technician      21   55\n",
      "writer          18   60\n"
     ]
    }
   ],
   "source": [
    "# Step 5. For each occupation, calculate the minimum and maximum ages\n",
    "min_max_age_per_occupation = users.groupby('occupation')['age'].agg(['min', 'max'])\n",
    "print(\"Minimum and Maximum Ages per Occupation:\\n\", min_max_age_per_occupation)"
   ]
  },
  {
   "cell_type": "code",
   "execution_count": 15,
   "metadata": {},
   "outputs": [
    {
     "name": "stdout",
     "output_type": "stream",
     "text": [
      "\n",
      "Step 6. Mean Age per Occupation and Sex:\n",
      " gender             Women        Men\n",
      "occupation                         \n",
      "administrator  40.638889  37.162791\n",
      "artist         30.307692  32.333333\n",
      "doctor               NaN  43.571429\n",
      "educator       39.115385  43.101449\n",
      "engineer       29.500000  36.600000\n",
      "entertainment  31.000000  29.000000\n",
      "executive      44.000000  38.172414\n",
      "healthcare     39.818182  45.400000\n",
      "homemaker      34.166667  23.000000\n",
      "lawyer         39.500000  36.200000\n",
      "librarian      40.000000  40.000000\n",
      "marketing      37.200000  37.875000\n",
      "none           36.500000  18.600000\n",
      "other          35.472222  34.028986\n",
      "programmer     32.166667  33.216667\n",
      "retired        70.000000  62.538462\n",
      "salesman       27.000000  38.555556\n",
      "scientist      28.333333  36.321429\n",
      "student        20.750000  22.669118\n",
      "technician     38.000000  32.961538\n",
      "writer         37.631579  35.346154\n"
     ]
    }
   ],
   "source": [
    "# Step 6. For each combination of occupation and sex, calculate the mean age\n",
    "mean_age_per_occupation_sex = users.groupby(['occupation', 'gender'])['age'].mean()\n",
    "mean_age_per_occupation_sex = mean_age_per_occupation_sex.unstack().rename(columns={'F': 'Women', 'M': 'Men'}) #Unstacking to show them in an organised manner.\n",
    "print(\"Mean Age per Occupation and Sex:\\n\", mean_age_per_occupation_sex)"
   ]
  },
  {
   "cell_type": "code",
   "execution_count": 13,
   "metadata": {},
   "outputs": [
    {
     "name": "stdout",
     "output_type": "stream",
     "text": [
      "Percentage of Women and Men for each Occupation:\n",
      " gender             Women         Men\n",
      "occupation                          \n",
      "administrator  45.569620   54.430380\n",
      "artist         46.428571   53.571429\n",
      "doctor               NaN  100.000000\n",
      "educator       27.368421   72.631579\n",
      "engineer        2.985075   97.014925\n",
      "entertainment  11.111111   88.888889\n",
      "executive       9.375000   90.625000\n",
      "healthcare     68.750000   31.250000\n",
      "homemaker      85.714286   14.285714\n",
      "lawyer         16.666667   83.333333\n",
      "librarian      56.862745   43.137255\n",
      "marketing      38.461538   61.538462\n",
      "none           44.444444   55.555556\n",
      "other          34.285714   65.714286\n",
      "programmer      9.090909   90.909091\n",
      "retired         7.142857   92.857143\n",
      "salesman       25.000000   75.000000\n",
      "scientist       9.677419   90.322581\n",
      "student        30.612245   69.387755\n",
      "technician      3.703704   96.296296\n",
      "writer         42.222222   57.777778\n"
     ]
    }
   ],
   "source": [
    "# Step 7. For each occupation, present the percentage of women and men\n",
    "gender_percentage_per_occupation = users.groupby(['occupation', 'gender']).size() / users.groupby('occupation').size() * 100\n",
    "gender_percentage_per_occupation = gender_percentage_per_occupation.unstack().rename(columns={'F': 'Women', 'M': 'Men'})\n",
    "print(\"Percentage of Women and Men for each Occupation:\\n\", gender_percentage_per_occupation)"
   ]
  },
  {
   "cell_type": "markdown",
   "metadata": {},
   "source": [
    "**Question 2: Euro Teams**\n"
   ]
  },
  {
   "cell_type": "code",
   "execution_count": 16,
   "metadata": {},
   "outputs": [],
   "source": [
    "# Import the necessary libraries\n",
    "import pandas as pd\n"
   ]
  },
  {
   "cell_type": "code",
   "execution_count": 22,
   "metadata": {},
   "outputs": [
    {
     "data": {
      "text/html": [
       "<div>\n",
       "<style scoped>\n",
       "    .dataframe tbody tr th:only-of-type {\n",
       "        vertical-align: middle;\n",
       "    }\n",
       "\n",
       "    .dataframe tbody tr th {\n",
       "        vertical-align: top;\n",
       "    }\n",
       "\n",
       "    .dataframe thead th {\n",
       "        text-align: right;\n",
       "    }\n",
       "</style>\n",
       "<table border=\"1\" class=\"dataframe\">\n",
       "  <thead>\n",
       "    <tr style=\"text-align: right;\">\n",
       "      <th></th>\n",
       "      <th>Team</th>\n",
       "      <th>Goals</th>\n",
       "      <th>Shots on target</th>\n",
       "      <th>Shots off target</th>\n",
       "      <th>Shooting Accuracy</th>\n",
       "      <th>% Goals-to-shots</th>\n",
       "      <th>Total shots (inc. Blocked)</th>\n",
       "      <th>Hit Woodwork</th>\n",
       "      <th>Penalty goals</th>\n",
       "      <th>Penalties not scored</th>\n",
       "      <th>...</th>\n",
       "      <th>Saves made</th>\n",
       "      <th>Saves-to-shots ratio</th>\n",
       "      <th>Fouls Won</th>\n",
       "      <th>Fouls Conceded</th>\n",
       "      <th>Offsides</th>\n",
       "      <th>Yellow Cards</th>\n",
       "      <th>Red Cards</th>\n",
       "      <th>Subs on</th>\n",
       "      <th>Subs off</th>\n",
       "      <th>Players Used</th>\n",
       "    </tr>\n",
       "  </thead>\n",
       "  <tbody>\n",
       "    <tr>\n",
       "      <th>0</th>\n",
       "      <td>Croatia</td>\n",
       "      <td>4</td>\n",
       "      <td>13</td>\n",
       "      <td>12</td>\n",
       "      <td>51.9%</td>\n",
       "      <td>16.0%</td>\n",
       "      <td>32</td>\n",
       "      <td>0</td>\n",
       "      <td>0</td>\n",
       "      <td>0</td>\n",
       "      <td>...</td>\n",
       "      <td>13</td>\n",
       "      <td>81.3%</td>\n",
       "      <td>41</td>\n",
       "      <td>62</td>\n",
       "      <td>2</td>\n",
       "      <td>9</td>\n",
       "      <td>0</td>\n",
       "      <td>9</td>\n",
       "      <td>9</td>\n",
       "      <td>16</td>\n",
       "    </tr>\n",
       "    <tr>\n",
       "      <th>1</th>\n",
       "      <td>Czech Republic</td>\n",
       "      <td>4</td>\n",
       "      <td>13</td>\n",
       "      <td>18</td>\n",
       "      <td>41.9%</td>\n",
       "      <td>12.9%</td>\n",
       "      <td>39</td>\n",
       "      <td>0</td>\n",
       "      <td>0</td>\n",
       "      <td>0</td>\n",
       "      <td>...</td>\n",
       "      <td>9</td>\n",
       "      <td>60.1%</td>\n",
       "      <td>53</td>\n",
       "      <td>73</td>\n",
       "      <td>8</td>\n",
       "      <td>7</td>\n",
       "      <td>0</td>\n",
       "      <td>11</td>\n",
       "      <td>11</td>\n",
       "      <td>19</td>\n",
       "    </tr>\n",
       "    <tr>\n",
       "      <th>2</th>\n",
       "      <td>Denmark</td>\n",
       "      <td>4</td>\n",
       "      <td>10</td>\n",
       "      <td>10</td>\n",
       "      <td>50.0%</td>\n",
       "      <td>20.0%</td>\n",
       "      <td>27</td>\n",
       "      <td>1</td>\n",
       "      <td>0</td>\n",
       "      <td>0</td>\n",
       "      <td>...</td>\n",
       "      <td>10</td>\n",
       "      <td>66.7%</td>\n",
       "      <td>25</td>\n",
       "      <td>38</td>\n",
       "      <td>8</td>\n",
       "      <td>4</td>\n",
       "      <td>0</td>\n",
       "      <td>7</td>\n",
       "      <td>7</td>\n",
       "      <td>15</td>\n",
       "    </tr>\n",
       "    <tr>\n",
       "      <th>3</th>\n",
       "      <td>England</td>\n",
       "      <td>5</td>\n",
       "      <td>11</td>\n",
       "      <td>18</td>\n",
       "      <td>50.0%</td>\n",
       "      <td>17.2%</td>\n",
       "      <td>40</td>\n",
       "      <td>0</td>\n",
       "      <td>0</td>\n",
       "      <td>0</td>\n",
       "      <td>...</td>\n",
       "      <td>22</td>\n",
       "      <td>88.1%</td>\n",
       "      <td>43</td>\n",
       "      <td>45</td>\n",
       "      <td>6</td>\n",
       "      <td>5</td>\n",
       "      <td>0</td>\n",
       "      <td>11</td>\n",
       "      <td>11</td>\n",
       "      <td>16</td>\n",
       "    </tr>\n",
       "    <tr>\n",
       "      <th>4</th>\n",
       "      <td>France</td>\n",
       "      <td>3</td>\n",
       "      <td>22</td>\n",
       "      <td>24</td>\n",
       "      <td>37.9%</td>\n",
       "      <td>6.5%</td>\n",
       "      <td>65</td>\n",
       "      <td>1</td>\n",
       "      <td>0</td>\n",
       "      <td>0</td>\n",
       "      <td>...</td>\n",
       "      <td>6</td>\n",
       "      <td>54.6%</td>\n",
       "      <td>36</td>\n",
       "      <td>51</td>\n",
       "      <td>5</td>\n",
       "      <td>6</td>\n",
       "      <td>0</td>\n",
       "      <td>11</td>\n",
       "      <td>11</td>\n",
       "      <td>19</td>\n",
       "    </tr>\n",
       "    <tr>\n",
       "      <th>5</th>\n",
       "      <td>Germany</td>\n",
       "      <td>10</td>\n",
       "      <td>32</td>\n",
       "      <td>32</td>\n",
       "      <td>47.8%</td>\n",
       "      <td>15.6%</td>\n",
       "      <td>80</td>\n",
       "      <td>2</td>\n",
       "      <td>1</td>\n",
       "      <td>0</td>\n",
       "      <td>...</td>\n",
       "      <td>10</td>\n",
       "      <td>62.6%</td>\n",
       "      <td>63</td>\n",
       "      <td>49</td>\n",
       "      <td>12</td>\n",
       "      <td>4</td>\n",
       "      <td>0</td>\n",
       "      <td>15</td>\n",
       "      <td>15</td>\n",
       "      <td>17</td>\n",
       "    </tr>\n",
       "    <tr>\n",
       "      <th>6</th>\n",
       "      <td>Greece</td>\n",
       "      <td>5</td>\n",
       "      <td>8</td>\n",
       "      <td>18</td>\n",
       "      <td>30.7%</td>\n",
       "      <td>19.2%</td>\n",
       "      <td>32</td>\n",
       "      <td>1</td>\n",
       "      <td>1</td>\n",
       "      <td>1</td>\n",
       "      <td>...</td>\n",
       "      <td>13</td>\n",
       "      <td>65.1%</td>\n",
       "      <td>67</td>\n",
       "      <td>48</td>\n",
       "      <td>12</td>\n",
       "      <td>9</td>\n",
       "      <td>1</td>\n",
       "      <td>12</td>\n",
       "      <td>12</td>\n",
       "      <td>20</td>\n",
       "    </tr>\n",
       "    <tr>\n",
       "      <th>7</th>\n",
       "      <td>Italy</td>\n",
       "      <td>6</td>\n",
       "      <td>34</td>\n",
       "      <td>45</td>\n",
       "      <td>43.0%</td>\n",
       "      <td>7.5%</td>\n",
       "      <td>110</td>\n",
       "      <td>2</td>\n",
       "      <td>0</td>\n",
       "      <td>0</td>\n",
       "      <td>...</td>\n",
       "      <td>20</td>\n",
       "      <td>74.1%</td>\n",
       "      <td>101</td>\n",
       "      <td>89</td>\n",
       "      <td>16</td>\n",
       "      <td>16</td>\n",
       "      <td>0</td>\n",
       "      <td>18</td>\n",
       "      <td>18</td>\n",
       "      <td>19</td>\n",
       "    </tr>\n",
       "    <tr>\n",
       "      <th>8</th>\n",
       "      <td>Netherlands</td>\n",
       "      <td>2</td>\n",
       "      <td>12</td>\n",
       "      <td>36</td>\n",
       "      <td>25.0%</td>\n",
       "      <td>4.1%</td>\n",
       "      <td>60</td>\n",
       "      <td>2</td>\n",
       "      <td>0</td>\n",
       "      <td>0</td>\n",
       "      <td>...</td>\n",
       "      <td>12</td>\n",
       "      <td>70.6%</td>\n",
       "      <td>35</td>\n",
       "      <td>30</td>\n",
       "      <td>3</td>\n",
       "      <td>5</td>\n",
       "      <td>0</td>\n",
       "      <td>7</td>\n",
       "      <td>7</td>\n",
       "      <td>15</td>\n",
       "    </tr>\n",
       "    <tr>\n",
       "      <th>9</th>\n",
       "      <td>Poland</td>\n",
       "      <td>2</td>\n",
       "      <td>15</td>\n",
       "      <td>23</td>\n",
       "      <td>39.4%</td>\n",
       "      <td>5.2%</td>\n",
       "      <td>48</td>\n",
       "      <td>0</td>\n",
       "      <td>0</td>\n",
       "      <td>0</td>\n",
       "      <td>...</td>\n",
       "      <td>6</td>\n",
       "      <td>66.7%</td>\n",
       "      <td>48</td>\n",
       "      <td>56</td>\n",
       "      <td>3</td>\n",
       "      <td>7</td>\n",
       "      <td>1</td>\n",
       "      <td>7</td>\n",
       "      <td>7</td>\n",
       "      <td>17</td>\n",
       "    </tr>\n",
       "    <tr>\n",
       "      <th>10</th>\n",
       "      <td>Portugal</td>\n",
       "      <td>6</td>\n",
       "      <td>22</td>\n",
       "      <td>42</td>\n",
       "      <td>34.3%</td>\n",
       "      <td>9.3%</td>\n",
       "      <td>82</td>\n",
       "      <td>6</td>\n",
       "      <td>0</td>\n",
       "      <td>0</td>\n",
       "      <td>...</td>\n",
       "      <td>10</td>\n",
       "      <td>71.5%</td>\n",
       "      <td>73</td>\n",
       "      <td>90</td>\n",
       "      <td>10</td>\n",
       "      <td>12</td>\n",
       "      <td>0</td>\n",
       "      <td>14</td>\n",
       "      <td>14</td>\n",
       "      <td>16</td>\n",
       "    </tr>\n",
       "    <tr>\n",
       "      <th>11</th>\n",
       "      <td>Republic of Ireland</td>\n",
       "      <td>1</td>\n",
       "      <td>7</td>\n",
       "      <td>12</td>\n",
       "      <td>36.8%</td>\n",
       "      <td>5.2%</td>\n",
       "      <td>28</td>\n",
       "      <td>0</td>\n",
       "      <td>0</td>\n",
       "      <td>0</td>\n",
       "      <td>...</td>\n",
       "      <td>17</td>\n",
       "      <td>65.4%</td>\n",
       "      <td>43</td>\n",
       "      <td>51</td>\n",
       "      <td>11</td>\n",
       "      <td>6</td>\n",
       "      <td>1</td>\n",
       "      <td>10</td>\n",
       "      <td>10</td>\n",
       "      <td>17</td>\n",
       "    </tr>\n",
       "    <tr>\n",
       "      <th>12</th>\n",
       "      <td>Russia</td>\n",
       "      <td>5</td>\n",
       "      <td>9</td>\n",
       "      <td>31</td>\n",
       "      <td>22.5%</td>\n",
       "      <td>12.5%</td>\n",
       "      <td>59</td>\n",
       "      <td>2</td>\n",
       "      <td>0</td>\n",
       "      <td>0</td>\n",
       "      <td>...</td>\n",
       "      <td>10</td>\n",
       "      <td>77.0%</td>\n",
       "      <td>34</td>\n",
       "      <td>43</td>\n",
       "      <td>4</td>\n",
       "      <td>6</td>\n",
       "      <td>0</td>\n",
       "      <td>7</td>\n",
       "      <td>7</td>\n",
       "      <td>16</td>\n",
       "    </tr>\n",
       "    <tr>\n",
       "      <th>13</th>\n",
       "      <td>Spain</td>\n",
       "      <td>12</td>\n",
       "      <td>42</td>\n",
       "      <td>33</td>\n",
       "      <td>55.9%</td>\n",
       "      <td>16.0%</td>\n",
       "      <td>100</td>\n",
       "      <td>0</td>\n",
       "      <td>1</td>\n",
       "      <td>0</td>\n",
       "      <td>...</td>\n",
       "      <td>15</td>\n",
       "      <td>93.8%</td>\n",
       "      <td>102</td>\n",
       "      <td>83</td>\n",
       "      <td>19</td>\n",
       "      <td>11</td>\n",
       "      <td>0</td>\n",
       "      <td>17</td>\n",
       "      <td>17</td>\n",
       "      <td>18</td>\n",
       "    </tr>\n",
       "    <tr>\n",
       "      <th>14</th>\n",
       "      <td>Sweden</td>\n",
       "      <td>5</td>\n",
       "      <td>17</td>\n",
       "      <td>19</td>\n",
       "      <td>47.2%</td>\n",
       "      <td>13.8%</td>\n",
       "      <td>39</td>\n",
       "      <td>3</td>\n",
       "      <td>0</td>\n",
       "      <td>0</td>\n",
       "      <td>...</td>\n",
       "      <td>8</td>\n",
       "      <td>61.6%</td>\n",
       "      <td>35</td>\n",
       "      <td>51</td>\n",
       "      <td>7</td>\n",
       "      <td>7</td>\n",
       "      <td>0</td>\n",
       "      <td>9</td>\n",
       "      <td>9</td>\n",
       "      <td>18</td>\n",
       "    </tr>\n",
       "    <tr>\n",
       "      <th>15</th>\n",
       "      <td>Ukraine</td>\n",
       "      <td>2</td>\n",
       "      <td>7</td>\n",
       "      <td>26</td>\n",
       "      <td>21.2%</td>\n",
       "      <td>6.0%</td>\n",
       "      <td>38</td>\n",
       "      <td>0</td>\n",
       "      <td>0</td>\n",
       "      <td>0</td>\n",
       "      <td>...</td>\n",
       "      <td>13</td>\n",
       "      <td>76.5%</td>\n",
       "      <td>48</td>\n",
       "      <td>31</td>\n",
       "      <td>4</td>\n",
       "      <td>5</td>\n",
       "      <td>0</td>\n",
       "      <td>9</td>\n",
       "      <td>9</td>\n",
       "      <td>18</td>\n",
       "    </tr>\n",
       "  </tbody>\n",
       "</table>\n",
       "<p>16 rows × 35 columns</p>\n",
       "</div>"
      ],
      "text/plain": [
       "                   Team  Goals  Shots on target  Shots off target  \\\n",
       "0               Croatia      4               13                12   \n",
       "1        Czech Republic      4               13                18   \n",
       "2               Denmark      4               10                10   \n",
       "3               England      5               11                18   \n",
       "4                France      3               22                24   \n",
       "5               Germany     10               32                32   \n",
       "6                Greece      5                8                18   \n",
       "7                 Italy      6               34                45   \n",
       "8           Netherlands      2               12                36   \n",
       "9                Poland      2               15                23   \n",
       "10             Portugal      6               22                42   \n",
       "11  Republic of Ireland      1                7                12   \n",
       "12               Russia      5                9                31   \n",
       "13                Spain     12               42                33   \n",
       "14               Sweden      5               17                19   \n",
       "15              Ukraine      2                7                26   \n",
       "\n",
       "   Shooting Accuracy % Goals-to-shots  Total shots (inc. Blocked)  \\\n",
       "0              51.9%            16.0%                          32   \n",
       "1              41.9%            12.9%                          39   \n",
       "2              50.0%            20.0%                          27   \n",
       "3              50.0%            17.2%                          40   \n",
       "4              37.9%             6.5%                          65   \n",
       "5              47.8%            15.6%                          80   \n",
       "6              30.7%            19.2%                          32   \n",
       "7              43.0%             7.5%                         110   \n",
       "8              25.0%             4.1%                          60   \n",
       "9              39.4%             5.2%                          48   \n",
       "10             34.3%             9.3%                          82   \n",
       "11             36.8%             5.2%                          28   \n",
       "12             22.5%            12.5%                          59   \n",
       "13             55.9%            16.0%                         100   \n",
       "14             47.2%            13.8%                          39   \n",
       "15             21.2%             6.0%                          38   \n",
       "\n",
       "    Hit Woodwork  Penalty goals  Penalties not scored  ...  Saves made  \\\n",
       "0              0              0                     0  ...          13   \n",
       "1              0              0                     0  ...           9   \n",
       "2              1              0                     0  ...          10   \n",
       "3              0              0                     0  ...          22   \n",
       "4              1              0                     0  ...           6   \n",
       "5              2              1                     0  ...          10   \n",
       "6              1              1                     1  ...          13   \n",
       "7              2              0                     0  ...          20   \n",
       "8              2              0                     0  ...          12   \n",
       "9              0              0                     0  ...           6   \n",
       "10             6              0                     0  ...          10   \n",
       "11             0              0                     0  ...          17   \n",
       "12             2              0                     0  ...          10   \n",
       "13             0              1                     0  ...          15   \n",
       "14             3              0                     0  ...           8   \n",
       "15             0              0                     0  ...          13   \n",
       "\n",
       "    Saves-to-shots ratio  Fouls Won Fouls Conceded  Offsides  Yellow Cards  \\\n",
       "0                  81.3%         41             62         2             9   \n",
       "1                  60.1%         53             73         8             7   \n",
       "2                  66.7%         25             38         8             4   \n",
       "3                  88.1%         43             45         6             5   \n",
       "4                  54.6%         36             51         5             6   \n",
       "5                  62.6%         63             49        12             4   \n",
       "6                  65.1%         67             48        12             9   \n",
       "7                  74.1%        101             89        16            16   \n",
       "8                  70.6%         35             30         3             5   \n",
       "9                  66.7%         48             56         3             7   \n",
       "10                 71.5%         73             90        10            12   \n",
       "11                 65.4%         43             51        11             6   \n",
       "12                 77.0%         34             43         4             6   \n",
       "13                 93.8%        102             83        19            11   \n",
       "14                 61.6%         35             51         7             7   \n",
       "15                 76.5%         48             31         4             5   \n",
       "\n",
       "    Red Cards  Subs on  Subs off  Players Used  \n",
       "0           0        9         9            16  \n",
       "1           0       11        11            19  \n",
       "2           0        7         7            15  \n",
       "3           0       11        11            16  \n",
       "4           0       11        11            19  \n",
       "5           0       15        15            17  \n",
       "6           1       12        12            20  \n",
       "7           0       18        18            19  \n",
       "8           0        7         7            15  \n",
       "9           1        7         7            17  \n",
       "10          0       14        14            16  \n",
       "11          1       10        10            17  \n",
       "12          0        7         7            16  \n",
       "13          0       17        17            18  \n",
       "14          0        9         9            18  \n",
       "15          0        9         9            18  \n",
       "\n",
       "[16 rows x 35 columns]"
      ]
     },
     "execution_count": 22,
     "metadata": {},
     "output_type": "execute_result"
    }
   ],
   "source": [
    "# Import the dataset from the given address and Assign it to a Variable (euro12)\n",
    "url = \"https://raw.githubusercontent.com/guipsamora/pandas_exercises/master/02_Filtering_%26_Sorting/Euro12/Euro_2012_stats_TEAM.csv\"\n",
    "euro12 = pd.read_csv(url)\n",
    "\n",
    "euro12"
   ]
  },
  {
   "cell_type": "code",
   "execution_count": 26,
   "metadata": {},
   "outputs": [
    {
     "data": {
      "text/plain": [
       "0      4\n",
       "1      4\n",
       "2      4\n",
       "3      5\n",
       "4      3\n",
       "5     10\n",
       "6      5\n",
       "7      6\n",
       "8      2\n",
       "9      2\n",
       "10     6\n",
       "11     1\n",
       "12     5\n",
       "13    12\n",
       "14     5\n",
       "15     2\n",
       "Name: Goals, dtype: int64"
      ]
     },
     "execution_count": 26,
     "metadata": {},
     "output_type": "execute_result"
    }
   ],
   "source": [
    "# Select only the Goal column\n",
    "euro12['Goals']\n"
   ]
  },
  {
   "cell_type": "code",
   "execution_count": 32,
   "metadata": {},
   "outputs": [
    {
     "name": "stdout",
     "output_type": "stream",
     "text": [
      "Number of teams participated in the Euro 2012: 16\n"
     ]
    }
   ],
   "source": [
    "# How many teams participated in the Euro2012?\n",
    "print(\"Number of teams participated in the Euro 2012:\", euro12['Team'].nunique())"
   ]
  },
  {
   "cell_type": "code",
   "execution_count": 31,
   "metadata": {},
   "outputs": [
    {
     "name": "stdout",
     "output_type": "stream",
     "text": [
      "Number of columns in the dataset: 35\n"
     ]
    }
   ],
   "source": [
    "# What is the number of columns in the dataset?\n",
    "\n",
    "print(\"Number of columns in the dataset:\", len(euro12.columns))"
   ]
  },
  {
   "cell_type": "code",
   "execution_count": 34,
   "metadata": {},
   "outputs": [
    {
     "name": "stdout",
     "output_type": "stream",
     "text": [
      "                   Team  Yellow Cards  Red Cards\n",
      "0               Croatia             9          0\n",
      "1        Czech Republic             7          0\n",
      "2               Denmark             4          0\n",
      "3               England             5          0\n",
      "4                France             6          0\n",
      "5               Germany             4          0\n",
      "6                Greece             9          1\n",
      "7                 Italy            16          0\n",
      "8           Netherlands             5          0\n",
      "9                Poland             7          1\n",
      "10             Portugal            12          0\n",
      "11  Republic of Ireland             6          1\n",
      "12               Russia             6          0\n",
      "13                Spain            11          0\n",
      "14               Sweden             7          0\n",
      "15              Ukraine             5          0\n"
     ]
    }
   ],
   "source": [
    "# View only the columns Team, Yellow Cards, and Red Cards and assign them to a dataframe called discipline\n",
    "discipline = euro12[['Team', 'Yellow Cards', 'Red Cards']]\n",
    "print(discipline)"
   ]
  },
  {
   "cell_type": "code",
   "execution_count": 35,
   "metadata": {},
   "outputs": [
    {
     "name": "stdout",
     "output_type": "stream",
     "text": [
      "                   Team  Yellow Cards  Red Cards\n",
      "6                Greece             9          1\n",
      "9                Poland             7          1\n",
      "11  Republic of Ireland             6          1\n",
      "7                 Italy            16          0\n",
      "10             Portugal            12          0\n",
      "13                Spain            11          0\n",
      "0               Croatia             9          0\n",
      "1        Czech Republic             7          0\n",
      "14               Sweden             7          0\n",
      "4                France             6          0\n",
      "12               Russia             6          0\n",
      "3               England             5          0\n",
      "8           Netherlands             5          0\n",
      "15              Ukraine             5          0\n",
      "2               Denmark             4          0\n",
      "5               Germany             4          0\n"
     ]
    }
   ],
   "source": [
    "# Sort the teams by Red Cards, then by Yellow Cards\n",
    "discipline_sorted = discipline.sort_values(['Red Cards', 'Yellow Cards'], ascending=[False, False])\n",
    "print(discipline_sorted)"
   ]
  },
  {
   "cell_type": "code",
   "execution_count": 36,
   "metadata": {},
   "outputs": [
    {
     "name": "stdout",
     "output_type": "stream",
     "text": [
      "Team\n",
      "Croatia                 9.0\n",
      "Czech Republic          7.0\n",
      "Denmark                 4.0\n",
      "England                 5.0\n",
      "France                  6.0\n",
      "Germany                 4.0\n",
      "Greece                  9.0\n",
      "Italy                  16.0\n",
      "Netherlands             5.0\n",
      "Poland                  7.0\n",
      "Portugal               12.0\n",
      "Republic of Ireland     6.0\n",
      "Russia                  6.0\n",
      "Spain                  11.0\n",
      "Sweden                  7.0\n",
      "Ukraine                 5.0\n",
      "Name: Yellow Cards, dtype: float64\n"
     ]
    }
   ],
   "source": [
    "# Calculate the mean Yellow Cards given per Team\n",
    "mean_yellow_cards = euro12.groupby('Team')['Yellow Cards'].mean()\n",
    "print(mean_yellow_cards)"
   ]
  },
  {
   "cell_type": "code",
   "execution_count": 41,
   "metadata": {},
   "outputs": [
    {
     "name": "stdout",
     "output_type": "stream",
     "text": [
      "\n",
      "Teams that scored more than 6 goals:\n",
      " 5     Germany\n",
      "13      Spain\n",
      "Name: Team, dtype: object\n"
     ]
    }
   ],
   "source": [
    "# Filter teams that scored more than 6 goals and show only team names\n",
    "sixgoals = euro12.loc[euro12['Goals'] > 6, 'Team']\n",
    "print(\"Teams that scored more than 6 goals:\\n\", sixgoals)\n"
   ]
  },
  {
   "cell_type": "code",
   "execution_count": 45,
   "metadata": {},
   "outputs": [
    {
     "name": "stdout",
     "output_type": "stream",
     "text": [
      "Teams that start with G:\n",
      " 5    Germany\n",
      "6     Greece\n",
      "Name: Team, dtype: object\n"
     ]
    }
   ],
   "source": [
    "# Select the teams that start with G and show only team names\n",
    "Gteam= euro12.loc[euro12['Team'].str.startswith('G'), 'Team']\n",
    "print(\"Teams that start with G:\\n\", Gteam)\n"
   ]
  },
  {
   "cell_type": "code",
   "execution_count": 50,
   "metadata": {},
   "outputs": [
    {
     "name": "stdout",
     "output_type": "stream",
     "text": [
      "First 7 Columns are \n",
      "\n",
      "                Team  Goals  Shots on target  Shots off target Shooting Accuracy % Goals-to-shots  Total shots (inc. Blocked)\n",
      "            Croatia      4               13                12             51.9%            16.0%                          32\n",
      "     Czech Republic      4               13                18             41.9%            12.9%                          39\n",
      "            Denmark      4               10                10             50.0%            20.0%                          27\n",
      "            England      5               11                18             50.0%            17.2%                          40\n",
      "             France      3               22                24             37.9%             6.5%                          65\n",
      "            Germany     10               32                32             47.8%            15.6%                          80\n",
      "             Greece      5                8                18             30.7%            19.2%                          32\n",
      "              Italy      6               34                45             43.0%             7.5%                         110\n",
      "        Netherlands      2               12                36             25.0%             4.1%                          60\n",
      "             Poland      2               15                23             39.4%             5.2%                          48\n",
      "           Portugal      6               22                42             34.3%             9.3%                          82\n",
      "Republic of Ireland      1                7                12             36.8%             5.2%                          28\n",
      "             Russia      5                9                31             22.5%            12.5%                          59\n",
      "              Spain     12               42                33             55.9%            16.0%                         100\n",
      "             Sweden      5               17                19             47.2%            13.8%                          39\n",
      "            Ukraine      2                7                26             21.2%             6.0%                          38\n"
     ]
    }
   ],
   "source": [
    "# Display the first 7 columns including team names\n",
    "print(\"First 7 Columns are \\n\\n\", euro12.iloc[:, :7].to_string(index=False))"
   ]
  },
  {
   "cell_type": "code",
   "execution_count": 51,
   "metadata": {},
   "outputs": [
    {
     "name": "stdout",
     "output_type": "stream",
     "text": [
      "Select all columns except the last 3:\n",
      "                Team  Goals  Shots on target  Shots off target Shooting Accuracy % Goals-to-shots  Total shots (inc. Blocked)  Hit Woodwork  Penalty goals  Penalties not scored  Headed goals  Passes  Passes completed Passing Accuracy  Touches  Crosses  Dribbles  Corners Taken  Tackles  Clearances  Interceptions  Clearances off line  Clean Sheets  Blocks  Goals conceded  Saves made Saves-to-shots ratio  Fouls Won  Fouls Conceded  Offsides  Yellow Cards  Red Cards\n",
      "            Croatia      4               13                12             51.9%            16.0%                          32             0              0                     0             2    1076               828            76.9%     1706       60        42             14       49          83             56                  NaN             0      10               3          13                81.3%         41              62         2             9          0\n",
      "     Czech Republic      4               13                18             41.9%            12.9%                          39             0              0                     0             0    1565              1223            78.1%     2358       46        68             21       62          98             37                  2.0             1      10               6           9                60.1%         53              73         8             7          0\n",
      "            Denmark      4               10                10             50.0%            20.0%                          27             1              0                     0             3    1298              1082            83.3%     1873       43        32             16       40          61             59                  0.0             1      10               5          10                66.7%         25              38         8             4          0\n",
      "            England      5               11                18             50.0%            17.2%                          40             0              0                     0             3    1488              1200            80.6%     2440       58        60             16       86         106             72                  1.0             2      29               3          22                88.1%         43              45         6             5          0\n",
      "             France      3               22                24             37.9%             6.5%                          65             1              0                     0             0    2066              1803            87.2%     2909       55        76             28       71          76             58                  0.0             1       7               5           6                54.6%         36              51         5             6          0\n",
      "            Germany     10               32                32             47.8%            15.6%                          80             2              1                     0             2    2774              2427            87.4%     3761      101        60             35       91          73             69                  0.0             1      11               6          10                62.6%         63              49        12             4          0\n",
      "             Greece      5                8                18             30.7%            19.2%                          32             1              1                     1             0    1187               911            76.7%     2016       52        53             10       65         123             87                  0.0             1      23               7          13                65.1%         67              48        12             9          1\n",
      "              Italy      6               34                45             43.0%             7.5%                         110             2              0                     0             2    3016              2531            83.9%     4363       75        75             30       98         137            136                  1.0             2      18               7          20                74.1%        101              89        16            16          0\n",
      "        Netherlands      2               12                36             25.0%             4.1%                          60             2              0                     0             0    1556              1381            88.7%     2163       50        49             22       34          41             41                  0.0             0       9               5          12                70.6%         35              30         3             5          0\n",
      "             Poland      2               15                23             39.4%             5.2%                          48             0              0                     0             1    1059               852            80.4%     1724       55        39             14       67          87             62                  0.0             0       8               3           6                66.7%         48              56         3             7          1\n",
      "           Portugal      6               22                42             34.3%             9.3%                          82             6              0                     0             2    1891              1461            77.2%     2958       91        64             41       78          92             86                  0.0             2      11               4          10                71.5%         73              90        10            12          0\n",
      "Republic of Ireland      1                7                12             36.8%             5.2%                          28             0              0                     0             1     851               606            71.2%     1433       43        18              8       45          78             43                  1.0             0      23               9          17                65.4%         43              51        11             6          1\n",
      "             Russia      5                9                31             22.5%            12.5%                          59             2              0                     0             1    1602              1345            83.9%     2278       40        40             21       65          74             58                  0.0             0       8               3          10                77.0%         34              43         4             6          0\n",
      "              Spain     12               42                33             55.9%            16.0%                         100             0              1                     0             2    4317              3820            88.4%     5585       69       106             44      122         102             79                  0.0             5       8               1          15                93.8%        102              83        19            11          0\n",
      "             Sweden      5               17                19             47.2%            13.8%                          39             3              0                     0             1    1192               965            80.9%     1806       44        29              7       56          54             45                  0.0             1      12               5           8                61.6%         35              51         7             7          0\n",
      "            Ukraine      2                7                26             21.2%             6.0%                          38             0              0                     0             2    1276              1043            81.7%     1894       33        26             18       65          97             29                  0.0             0       4               4          13                76.5%         48              31         4             5          0\n"
     ]
    }
   ],
   "source": [
    "# Display all columns except the last 3 without row indices in one line\n",
    "print(\"Select all columns except the last 3:\\n\", euro12.iloc[:, :-3].to_string(index=False))\n"
   ]
  },
  {
   "cell_type": "code",
   "execution_count": 52,
   "metadata": {},
   "outputs": [
    {
     "name": "stdout",
     "output_type": "stream",
     "text": [
      "\n",
      "Shooting Accuracy from England, Italy, and Russia:\n",
      "    Team Shooting Accuracy\n",
      "England             50.0%\n",
      "  Italy             43.0%\n",
      " Russia             22.5%\n"
     ]
    }
   ],
   "source": [
    "# Display Shooting Accuracy from England, Italy, and Russia\n",
    "print(\"\\nShooting Accuracy from England, Italy, and Russia:\\n\", euro12.loc[euro12['Team'].isin(['England', 'Italy', 'Russia']), ['Team', 'Shooting Accuracy']].to_string(index=False))\n"
   ]
  },
  {
   "cell_type": "markdown",
   "metadata": {},
   "source": [
    "\n",
    "**Question 3: Housing**"
   ]
  },
  {
   "cell_type": "code",
   "execution_count": 53,
   "metadata": {},
   "outputs": [],
   "source": [
    "# Step 1. Import the necessary libraries\n",
    "import pandas as pd\n",
    "import numpy as np"
   ]
  },
  {
   "cell_type": "code",
   "execution_count": 60,
   "metadata": {},
   "outputs": [],
   "source": [
    "# Step 2. Create 3 different Series\n",
    "series1 = pd.Series(np.random.randint(1, 5, size=100))\n",
    "series2 = pd.Series(np.random.randint(1, 4, size=100))\n",
    "series3 = pd.Series(np.random.randint(10000, 30001, size=100))"
   ]
  },
  {
   "cell_type": "code",
   "execution_count": 67,
   "metadata": {},
   "outputs": [
    {
     "name": "stdout",
     "output_type": "stream",
     "text": [
      "    0  1      2\n",
      "0   2  2  18800\n",
      "1   4  2  28168\n",
      "2   1  3  18265\n",
      "3   1  1  14060\n",
      "4   1  3  25326\n",
      ".. .. ..    ...\n",
      "95  3  1  20456\n",
      "96  4  3  29262\n",
      "97  1  3  25238\n",
      "98  1  1  11791\n",
      "99  1  1  25592\n",
      "\n",
      "[100 rows x 3 columns]\n"
     ]
    }
   ],
   "source": [
    "# Step 3. Create a DataFrame by joining the Series by column\n",
    "housing_df = pd.concat([series1, series2, series3], axis=1)\n",
    "print(housing_df)"
   ]
  },
  {
   "cell_type": "code",
   "execution_count": 68,
   "metadata": {},
   "outputs": [
    {
     "name": "stdout",
     "output_type": "stream",
     "text": [
      "Index(['bedrs', 'bathrs', 'price_sqr_meter'], dtype='object')\n"
     ]
    }
   ],
   "source": [
    "# Step 4. Change the name of the columns\n",
    "housing_df.columns = ['bedrs', 'bathrs', 'price_sqr_meter']\n",
    "print(housing_df.columns)"
   ]
  },
  {
   "cell_type": "code",
   "execution_count": 70,
   "metadata": {},
   "outputs": [
    {
     "name": "stdout",
     "output_type": "stream",
     "text": [
      "0          2\n",
      "1          4\n",
      "2          1\n",
      "3          1\n",
      "4          1\n",
      "       ...  \n",
      "295    20456\n",
      "296    29262\n",
      "297    25238\n",
      "298    11791\n",
      "299    25592\n",
      "Length: 300, dtype: int32\n"
     ]
    }
   ],
   "source": [
    "# Step 5. Create a one-column DataFrame with the values of the 3 Series and assign it to 'bigcolumn'\n",
    "bigcolumn = pd.concat([series1, series2, series3], ignore_index=True)\n",
    "print(bigcolumn)"
   ]
  },
  {
   "cell_type": "code",
   "execution_count": 71,
   "metadata": {},
   "outputs": [
    {
     "name": "stdout",
     "output_type": "stream",
     "text": [
      "Is it true that 'bigcolumn' goes only until index 99?: False\n"
     ]
    }
   ],
   "source": [
    "# Step 6. Check if it is going only until index 99\n",
    "print(\"Is it true that 'bigcolumn' goes only until index 99?:\", bigcolumn.index.max() == 99)\n"
   ]
  },
  {
   "cell_type": "code",
   "execution_count": 72,
   "metadata": {},
   "outputs": [
    {
     "name": "stdout",
     "output_type": "stream",
     "text": [
      "0          2\n",
      "1          4\n",
      "2          1\n",
      "3          1\n",
      "4          1\n",
      "       ...  \n",
      "295    20456\n",
      "296    29262\n",
      "297    25238\n",
      "298    11791\n",
      "299    25592\n",
      "Length: 300, dtype: int32\n"
     ]
    }
   ],
   "source": [
    "# Step 7. Reindex the DataFrame so it goes from 0 to 299\n",
    "bigcolumn = bigcolumn.reset_index(drop=True)\n",
    "print(bigcolumn)"
   ]
  },
  {
   "cell_type": "code",
   "execution_count": 73,
   "metadata": {},
   "outputs": [
    {
     "name": "stdout",
     "output_type": "stream",
     "text": [
      "\n",
      "DataFrame by joining the Series by column:\n",
      "     bedrs  bathrs  price_sqr_meter\n",
      "0       2       2            18800\n",
      "1       4       2            28168\n",
      "2       1       3            18265\n",
      "3       1       1            14060\n",
      "4       1       3            25326\n",
      "..    ...     ...              ...\n",
      "95      3       1            20456\n",
      "96      4       3            29262\n",
      "97      1       3            25238\n",
      "98      1       1            11791\n",
      "99      1       1            25592\n",
      "\n",
      "[100 rows x 3 columns]\n",
      "\n",
      "One-column DataFrame 'bigcolumn':\n",
      " 0          2\n",
      "1          4\n",
      "2          1\n",
      "3          1\n",
      "4          1\n",
      "       ...  \n",
      "295    20456\n",
      "296    29262\n",
      "297    25238\n",
      "298    11791\n",
      "299    25592\n",
      "Length: 300, dtype: int32\n"
     ]
    }
   ],
   "source": [
    "# Display the results\n",
    "print(\"DataFrame by joining the Series by column:\\n\", housing_df)\n",
    "print(\"One-column DataFrame 'bigcolumn':\\n\", bigcolumn)"
   ]
  },
  {
   "cell_type": "markdown",
   "metadata": {},
   "source": [
    "Question 4: Wind Statistics"
   ]
  },
  {
   "cell_type": "markdown",
   "metadata": {},
   "source": [
    "Step 1. Import the necessary libraries"
   ]
  },
  {
   "cell_type": "code",
   "execution_count": 10,
   "metadata": {},
   "outputs": [],
   "source": [
    "import pandas as pd\n",
    "import numpy as np\n",
    "import datetime"
   ]
  },
  {
   "cell_type": "markdown",
   "metadata": {},
   "source": [
    "Step 2. Import the dataset"
   ]
  },
  {
   "cell_type": "code",
   "execution_count": 9,
   "metadata": {},
   "outputs": [
    {
     "name": "stdout",
     "output_type": "stream",
     "text": [
      "        date    RPT    VAL    ROS    KIL    SHA   BIR    DUB    CLA    MUL  \\\n",
      "0 2061-01-01  15.04  14.96  13.17   9.29    NaN  9.87  13.67  10.25  10.83   \n",
      "1 2061-01-02  14.71    NaN  10.83   6.50  12.62  7.67  11.50  10.04   9.79   \n",
      "2 2061-01-03  18.50  16.88  12.33  10.13  11.17  6.17  11.25    NaN   8.50   \n",
      "3 2061-01-04  10.58   6.63  11.75   4.58   4.54  2.88   8.63   1.79   5.83   \n",
      "4 2061-01-05  13.33  13.25  11.42   6.17  10.71  8.21  11.92   6.54  10.92   \n",
      "\n",
      "     CLO    BEL    MAL  \n",
      "0  12.58  18.50  15.04  \n",
      "1   9.67  17.54  13.83  \n",
      "2   7.67  12.75  12.71  \n",
      "3   5.88   5.46  10.88  \n",
      "4  10.34  12.92  11.83  \n"
     ]
    }
   ],
   "source": [
    "data = pd.read_csv('wind.txt', delimiter='\\s+', parse_dates={'date': ['Yr', 'Mo', 'Dy']}, date_format='%y %m %d')\n",
    "print(data.head())"
   ]
  },
  {
   "cell_type": "markdown",
   "metadata": {},
   "source": [
    "Step 3. Assign it to a variable called data and replace the first 3 columns by a proper datetime index"
   ]
  },
  {
   "cell_type": "code",
   "execution_count": 11,
   "metadata": {},
   "outputs": [],
   "source": [
    "data.set_index('date', inplace=True)"
   ]
  },
  {
   "cell_type": "markdown",
   "metadata": {},
   "source": [
    "Step 4. Year 2061? Do we really have data from this year? Create a function to fix it and apply it"
   ]
  },
  {
   "cell_type": "code",
   "execution_count": 13,
   "metadata": {},
   "outputs": [
    {
     "name": "stdout",
     "output_type": "stream",
     "text": [
      "              RPT    VAL    ROS    KIL    SHA    BIR    DUB    CLA    MUL  \\\n",
      "date                                                                        \n",
      "1961-01-01  15.04  14.96  13.17   9.29    NaN   9.87  13.67  10.25  10.83   \n",
      "1961-01-02  14.71    NaN  10.83   6.50  12.62   7.67  11.50  10.04   9.79   \n",
      "1961-01-03  18.50  16.88  12.33  10.13  11.17   6.17  11.25    NaN   8.50   \n",
      "1961-01-04  10.58   6.63  11.75   4.58   4.54   2.88   8.63   1.79   5.83   \n",
      "1961-01-05  13.33  13.25  11.42   6.17  10.71   8.21  11.92   6.54  10.92   \n",
      "...           ...    ...    ...    ...    ...    ...    ...    ...    ...   \n",
      "1978-12-27  17.58  16.96  17.62   8.08  13.21  11.67  14.46  15.59  14.04   \n",
      "1978-12-28  13.21   5.46  13.46   5.00   8.12   9.42  14.33  16.25  15.25   \n",
      "1978-12-29  14.00  10.29  14.42   8.71   9.71  10.54  19.17  12.46  14.50   \n",
      "1978-12-30  18.50  14.04  21.29   9.13  12.75   9.71  18.08  12.87  12.46   \n",
      "1978-12-31  20.33  17.41  27.29   9.59  12.08  10.13  19.25  11.63  11.58   \n",
      "\n",
      "              CLO    BEL    MAL  \n",
      "date                             \n",
      "1961-01-01  12.58  18.50  15.04  \n",
      "1961-01-02   9.67  17.54  13.83  \n",
      "1961-01-03   7.67  12.75  12.71  \n",
      "1961-01-04   5.88   5.46  10.88  \n",
      "1961-01-05  10.34  12.92  11.83  \n",
      "...           ...    ...    ...  \n",
      "1978-12-27  14.00  17.21  40.08  \n",
      "1978-12-28  18.05  21.79  41.46  \n",
      "1978-12-29  16.42  18.88  29.58  \n",
      "1978-12-30  12.12  14.67  28.79  \n",
      "1978-12-31  11.38  12.08  22.08  \n",
      "\n",
      "[6574 rows x 12 columns]\n"
     ]
    }
   ],
   "source": [
    "def fix_year(dt):\n",
    "    if dt.year > 2000:\n",
    "        dt = dt.replace(year=dt.year - 100)\n",
    "    return dt\n",
    "\n",
    "data.index = data.index.map(fix_year)\n",
    "\n",
    "print(data)\n"
   ]
  },
  {
   "cell_type": "markdown",
   "metadata": {},
   "source": [
    "Step 5. Set the right dates as the index. Pay attention at the data type, it should be datetime64[ns]"
   ]
  },
  {
   "cell_type": "code",
   "execution_count": 18,
   "metadata": {},
   "outputs": [],
   "source": [
    "\n",
    "data.index = pd.to_datetime(data.index)"
   ]
  },
  {
   "cell_type": "markdown",
   "metadata": {},
   "source": [
    "Step 6. Compute how many values are missing for each location over the entire record. They should be ignored in all calculations below"
   ]
  },
  {
   "cell_type": "code",
   "execution_count": 19,
   "metadata": {},
   "outputs": [
    {
     "name": "stdout",
     "output_type": "stream",
     "text": [
      "RPT    6\n",
      "VAL    3\n",
      "ROS    2\n",
      "KIL    5\n",
      "SHA    2\n",
      "BIR    0\n",
      "DUB    3\n",
      "CLA    2\n",
      "MUL    3\n",
      "CLO    1\n",
      "BEL    0\n",
      "MAL    4\n",
      "dtype: int64\n"
     ]
    }
   ],
   "source": [
    "missing_values_per_location = data.isnull().sum()\n",
    "print(missing_values_per_location)\n",
    "\n"
   ]
  },
  {
   "cell_type": "markdown",
   "metadata": {},
   "source": [
    "Step 7. Compute how many non-missing values there are in total"
   ]
  },
  {
   "cell_type": "code",
   "execution_count": 21,
   "metadata": {},
   "outputs": [
    {
     "name": "stdout",
     "output_type": "stream",
     "text": [
      "Total non-missing values: 78857\n"
     ]
    }
   ],
   "source": [
    "total_non_missing_values = data.count().sum()\n",
    "print(\"Total non-missing values:\", total_non_missing_values)"
   ]
  },
  {
   "cell_type": "markdown",
   "metadata": {},
   "source": [
    "Step 8. Calculate the mean windspeeds of the windspeeds over all the locations and all the times. A single number for the entire dataset"
   ]
  },
  {
   "cell_type": "code",
   "execution_count": 22,
   "metadata": {},
   "outputs": [
    {
     "name": "stdout",
     "output_type": "stream",
     "text": [
      "10.227982360836938\n"
     ]
    }
   ],
   "source": [
    "mean_windspeed = data.mean().mean()\n",
    "print(mean_windspeed)"
   ]
  },
  {
   "cell_type": "markdown",
   "metadata": {},
   "source": [
    "Step 9. Create a DataFrame called loc_stats and calculate the min, max and mean windspeeds and standard deviations of the windspeeds at each location over all the days. A different set of numbers for each location"
   ]
  },
  {
   "cell_type": "code",
   "execution_count": 23,
   "metadata": {},
   "outputs": [
    {
     "name": "stdout",
     "output_type": "stream",
     "text": [
      "      min    max       mean       std\n",
      "RPT  0.67  35.80  12.362987  5.618413\n",
      "VAL  0.21  33.37  10.644314  5.267356\n",
      "ROS  1.50  33.84  11.660526  5.008450\n",
      "KIL  0.00  28.46   6.306468  3.605811\n",
      "SHA  0.13  37.54  10.455834  4.936125\n",
      "BIR  0.00  26.16   7.092254  3.968683\n",
      "DUB  0.00  30.37   9.797343  4.977555\n",
      "CLA  0.00  31.08   8.495053  4.499449\n",
      "MUL  0.00  25.88   8.493590  4.166872\n",
      "CLO  0.04  28.21   8.707332  4.503954\n",
      "BEL  0.13  42.38  13.121007  5.835037\n",
      "MAL  0.67  42.54  15.599079  6.699794\n"
     ]
    }
   ],
   "source": [
    "loc_stats = data.describe(percentiles=[]).T[['min', 'max', 'mean', 'std']]\n",
    "print(loc_stats)"
   ]
  },
  {
   "cell_type": "markdown",
   "metadata": {},
   "source": [
    "Step 10. Create a DataFrame called day_stats and calculate the min, max and mean windspeed and standard deviations of the windspeeds across all the locations at each day. A different set of numbers for each day"
   ]
  },
  {
   "cell_type": "code",
   "execution_count": 27,
   "metadata": {},
   "outputs": [
    {
     "name": "stdout",
     "output_type": "stream",
     "text": [
      "              RPT                    \\\n",
      "              min    max   mean std   \n",
      "date                                  \n",
      "1961-01-01  15.04  15.04  15.04 NaN   \n",
      "1961-01-02  14.71  14.71  14.71 NaN   \n",
      "1961-01-03  18.50  18.50  18.50 NaN   \n",
      "1961-01-04  10.58  10.58  10.58 NaN   \n",
      "1961-01-05  13.33  13.33  13.33 NaN   \n",
      "...           ...    ...    ...  ..   \n",
      "1978-12-27  17.58  17.58  17.58 NaN   \n",
      "1978-12-28  13.21  13.21  13.21 NaN   \n",
      "1978-12-29  14.00  14.00  14.00 NaN   \n",
      "1978-12-30  18.50  18.50  18.50 NaN   \n",
      "1978-12-31  20.33  20.33  20.33 NaN   \n",
      "\n",
      "              VAL                    \\\n",
      "              min    max   mean std   \n",
      "date                                  \n",
      "1961-01-01  14.96  14.96  14.96 NaN   \n",
      "1961-01-02    NaN    NaN    NaN NaN   \n",
      "1961-01-03  16.88  16.88  16.88 NaN   \n",
      "1961-01-04   6.63   6.63   6.63 NaN   \n",
      "1961-01-05  13.25  13.25  13.25 NaN   \n",
      "...           ...    ...    ...  ..   \n",
      "1978-12-27  16.96  16.96  16.96 NaN   \n",
      "1978-12-28   5.46   5.46   5.46 NaN   \n",
      "1978-12-29  10.29  10.29  10.29 NaN   \n",
      "1978-12-30  14.04  14.04  14.04 NaN   \n",
      "1978-12-31  17.41  17.41  17.41 NaN   \n",
      "\n",
      "              ROS         ...    CLO  \\\n",
      "              min    max  ...   mean   \n",
      "date                      ...          \n",
      "1961-01-01  13.17  13.17  ...  12.58   \n",
      "1961-01-02  10.83  10.83  ...   9.67   \n",
      "1961-01-03  12.33  12.33  ...   7.67   \n",
      "1961-01-04  11.75  11.75  ...   5.88   \n",
      "1961-01-05  11.42  11.42  ...  10.34   \n",
      "...           ...    ...  ...    ...   \n",
      "1978-12-27  17.62  17.62  ...  14.00   \n",
      "1978-12-28  13.46  13.46  ...  18.05   \n",
      "1978-12-29  14.42  14.42  ...  16.42   \n",
      "1978-12-30  21.29  21.29  ...  12.12   \n",
      "1978-12-31  27.29  27.29  ...  11.38   \n",
      "\n",
      "                  BEL                \\\n",
      "           std    min    max   mean   \n",
      "date                                  \n",
      "1961-01-01 NaN  18.50  18.50  18.50   \n",
      "1961-01-02 NaN  17.54  17.54  17.54   \n",
      "1961-01-03 NaN  12.75  12.75  12.75   \n",
      "1961-01-04 NaN   5.46   5.46   5.46   \n",
      "1961-01-05 NaN  12.92  12.92  12.92   \n",
      "...         ..    ...    ...    ...   \n",
      "1978-12-27 NaN  17.21  17.21  17.21   \n",
      "1978-12-28 NaN  21.79  21.79  21.79   \n",
      "1978-12-29 NaN  18.88  18.88  18.88   \n",
      "1978-12-30 NaN  14.67  14.67  14.67   \n",
      "1978-12-31 NaN  12.08  12.08  12.08   \n",
      "\n",
      "                  MAL                \\\n",
      "           std    min    max   mean   \n",
      "date                                  \n",
      "1961-01-01 NaN  15.04  15.04  15.04   \n",
      "1961-01-02 NaN  13.83  13.83  13.83   \n",
      "1961-01-03 NaN  12.71  12.71  12.71   \n",
      "1961-01-04 NaN  10.88  10.88  10.88   \n",
      "1961-01-05 NaN  11.83  11.83  11.83   \n",
      "...         ..    ...    ...    ...   \n",
      "1978-12-27 NaN  40.08  40.08  40.08   \n",
      "1978-12-28 NaN  41.46  41.46  41.46   \n",
      "1978-12-29 NaN  29.58  29.58  29.58   \n",
      "1978-12-30 NaN  28.79  28.79  28.79   \n",
      "1978-12-31 NaN  22.08  22.08  22.08   \n",
      "\n",
      "                \n",
      "           std  \n",
      "date            \n",
      "1961-01-01 NaN  \n",
      "1961-01-02 NaN  \n",
      "1961-01-03 NaN  \n",
      "1961-01-04 NaN  \n",
      "1961-01-05 NaN  \n",
      "...         ..  \n",
      "1978-12-27 NaN  \n",
      "1978-12-28 NaN  \n",
      "1978-12-29 NaN  \n",
      "1978-12-30 NaN  \n",
      "1978-12-31 NaN  \n",
      "\n",
      "[6574 rows x 48 columns]\n"
     ]
    }
   ],
   "source": [
    "day_stats = data.resample('D').agg(['min', 'max', 'mean', 'std'])\n",
    "print(day_stats)"
   ]
  },
  {
   "cell_type": "markdown",
   "metadata": {},
   "source": [
    "Step 11. Find the average windspeed in January for each location. Treat January 1961 and January 1962 both as January"
   ]
  },
  {
   "cell_type": "code",
   "execution_count": 29,
   "metadata": {},
   "outputs": [
    {
     "name": "stdout",
     "output_type": "stream",
     "text": [
      "Average Windspeed in January for each location:\n",
      " RPT    14.847325\n",
      "VAL    12.914560\n",
      "ROS    13.299624\n",
      "KIL     7.199498\n",
      "SHA    11.667734\n",
      "BIR     8.054839\n",
      "DUB    11.819355\n",
      "CLA     9.512047\n",
      "MUL     9.543208\n",
      "CLO    10.053566\n",
      "BEL    14.550520\n",
      "MAL    18.028763\n"
     ]
    }
   ],
   "source": [
    "# Step 11: Find the average windspeed in January for each location. Treat January 1961 and January 1962 both as January.\n",
    "jan_avg_windspeed = data[data.index.month == 1].mean()\n",
    "print(\"Average Windspeed in January for each location:\\n\", jan_avg_windspeed.to_string())\n"
   ]
  },
  {
   "cell_type": "markdown",
   "metadata": {},
   "source": [
    "Step 12. Downsample the record to a yearly frequency for each location"
   ]
  },
  {
   "cell_type": "code",
   "execution_count": 31,
   "metadata": {},
   "outputs": [
    {
     "name": "stdout",
     "output_type": "stream",
     "text": [
      "                  RPT        VAL  \\\n",
      "date                               \n",
      "1961-12-31  12.299583  10.351796   \n",
      "1962-12-31  12.246923  10.110438   \n",
      "1963-12-31  12.813452  10.836986   \n",
      "1964-12-31  12.363661  10.920164   \n",
      "1965-12-31  12.451370  11.075534   \n",
      "1966-12-31  13.461973  11.557205   \n",
      "1967-12-31  12.737151  10.990986   \n",
      "1968-12-31  11.835628  10.468197   \n",
      "1969-12-31  11.166356   9.723699   \n",
      "1970-12-31  12.600329  10.726932   \n",
      "1971-12-31  11.273123   9.095178   \n",
      "1972-12-31  12.463962  10.561311   \n",
      "1973-12-31  11.828466  10.680493   \n",
      "1974-12-31  13.643096  11.811781   \n",
      "1975-12-31  12.008575  10.293836   \n",
      "1976-12-31  11.737842  10.203115   \n",
      "1977-12-31  13.099616  11.144493   \n",
      "1978-12-31  12.504356  11.044274   \n",
      "\n",
      "                  ROS       KIL  \\\n",
      "date                              \n",
      "1961-12-31  11.362369  6.958227   \n",
      "1962-12-31  11.732712  6.960440   \n",
      "1963-12-31  12.541151  7.330055   \n",
      "1964-12-31  12.104372  6.787787   \n",
      "1965-12-31  11.848767  6.858466   \n",
      "1966-12-31  12.020630  7.345726   \n",
      "1967-12-31  11.739397  7.143425   \n",
      "1968-12-31  11.409754  6.477678   \n",
      "1969-12-31  10.902000  5.767973   \n",
      "1970-12-31  11.730247  6.217178   \n",
      "1971-12-31  11.088329  5.241507   \n",
      "1972-12-31  12.058333  5.929699   \n",
      "1973-12-31  10.680493  5.547863   \n",
      "1974-12-31  12.336356  6.427041   \n",
      "1975-12-31  11.564712  5.269096   \n",
      "1976-12-31  10.761230  5.109426   \n",
      "1977-12-31  12.627836  6.073945   \n",
      "1978-12-31  11.380000  6.082356   \n",
      "\n",
      "                  SHA       BIR  \\\n",
      "date                              \n",
      "1961-12-31  10.881763  7.729726   \n",
      "1962-12-31  10.657918  7.393068   \n",
      "1963-12-31  11.724110  8.434712   \n",
      "1964-12-31  11.454481  7.570874   \n",
      "1965-12-31  11.024795  7.478110   \n",
      "1966-12-31  11.805041  7.793671   \n",
      "1967-12-31  11.630740  7.368164   \n",
      "1968-12-31  10.760765  6.067322   \n",
      "1969-12-31   9.873918  6.189973   \n",
      "1970-12-31  10.567370  7.609452   \n",
      "1971-12-31   9.440329  6.097151   \n",
      "1972-12-31   9.430410  6.358825   \n",
      "1973-12-31   9.640877  6.548740   \n",
      "1974-12-31  11.110986  6.809781   \n",
      "1975-12-31   9.190082  5.668521   \n",
      "1976-12-31   8.846339  6.311038   \n",
      "1977-12-31  10.003836  8.586438   \n",
      "1978-12-31  10.167233  7.650658   \n",
      "\n",
      "                  DUB        CLA  \\\n",
      "date                               \n",
      "1961-12-31   9.733923   8.858788   \n",
      "1962-12-31  11.020712   8.793753   \n",
      "1963-12-31  11.075699  10.336548   \n",
      "1964-12-31  10.259153   9.467350   \n",
      "1965-12-31  10.618712   8.879918   \n",
      "1966-12-31  10.579808   8.835096   \n",
      "1967-12-31  10.652027   9.325616   \n",
      "1968-12-31   8.859180   8.255519   \n",
      "1969-12-31   8.564493   7.711397   \n",
      "1970-12-31   9.609890   8.334630   \n",
      "1971-12-31   8.385890   6.757315   \n",
      "1972-12-31   9.704508   7.680792   \n",
      "1973-12-31   8.482110   7.614274   \n",
      "1974-12-31  10.084603   9.896986   \n",
      "1975-12-31   8.562603   7.843836   \n",
      "1976-12-31   9.149126   7.146202   \n",
      "1977-12-31  11.523205   8.378384   \n",
      "1978-12-31   9.489342   8.800466   \n",
      "\n",
      "                 MUL        CLO  \\\n",
      "date                              \n",
      "1961-12-31  8.647652   9.835577   \n",
      "1962-12-31  8.316822   9.676247   \n",
      "1963-12-31  8.903589  10.224438   \n",
      "1964-12-31  7.789016  10.207951   \n",
      "1965-12-31  7.907425   9.918082   \n",
      "1966-12-31  8.514438   9.768959   \n",
      "1967-12-31  8.645014   9.547425   \n",
      "1968-12-31  7.224945   7.832978   \n",
      "1969-12-31  7.924521   7.754384   \n",
      "1970-12-31  9.297616   8.289808   \n",
      "1971-12-31  7.915370   7.229753   \n",
      "1972-12-31  8.357295   7.515273   \n",
      "1973-12-31  8.245534   7.812411   \n",
      "1974-12-31  9.331753   8.736356   \n",
      "1975-12-31  8.797945   7.382822   \n",
      "1976-12-31  8.883716   7.883087   \n",
      "1977-12-31  9.098192   8.821616   \n",
      "1978-12-31  9.089753   8.301699   \n",
      "\n",
      "                  BEL        MAL  \n",
      "date                              \n",
      "1961-12-31  13.502795  13.680773  \n",
      "1962-12-31  12.930685  14.323956  \n",
      "1963-12-31  13.638877  14.999014  \n",
      "1964-12-31  13.740546  14.910301  \n",
      "1965-12-31  12.964247  15.591644  \n",
      "1966-12-31  14.265836  16.307260  \n",
      "1967-12-31  14.774548  17.135945  \n",
      "1968-12-31  12.808634  15.017486  \n",
      "1969-12-31  12.621233  15.762904  \n",
      "1970-12-31  13.183644  16.456027  \n",
      "1971-12-31  12.208932  15.025233  \n",
      "1972-12-31  12.727377  15.028716  \n",
      "1973-12-31  12.169699  15.441096  \n",
      "1974-12-31  13.252959  16.947671  \n",
      "1975-12-31  12.631671  15.307863  \n",
      "1976-12-31  12.332377  15.471448  \n",
      "1977-12-31  13.459068  16.590849  \n",
      "1978-12-31  12.967397  16.771370  \n"
     ]
    }
   ],
   "source": [
    "yearly_data = data.resample('Y').mean()\n",
    "print(yearly_data)"
   ]
  },
  {
   "cell_type": "markdown",
   "metadata": {},
   "source": [
    "Step 13. Downsample the record to a monthly frequency for each location"
   ]
  },
  {
   "cell_type": "code",
   "execution_count": 32,
   "metadata": {},
   "outputs": [
    {
     "name": "stdout",
     "output_type": "stream",
     "text": [
      "                  RPT        VAL  \\\n",
      "date                               \n",
      "1961-01-31  14.841333  11.988333   \n",
      "1961-02-28  16.269286  14.975357   \n",
      "1961-03-31  10.890000  11.296452   \n",
      "1961-04-30  10.722667   9.427667   \n",
      "1961-05-31   9.860968   8.850000   \n",
      "...               ...        ...   \n",
      "1978-08-31   9.645161   8.259355   \n",
      "1978-09-30  10.913667  10.895000   \n",
      "1978-10-31   9.897742   8.670968   \n",
      "1978-11-30  16.151667  14.802667   \n",
      "1978-12-31  16.175484  13.748065   \n",
      "\n",
      "                  ROS       KIL  \\\n",
      "date                              \n",
      "1961-01-31  13.431613  7.736774   \n",
      "1961-02-28  14.441481  9.230741   \n",
      "1961-03-31  10.752903  7.284000   \n",
      "1961-04-30   9.998000  5.830667   \n",
      "1961-05-31  10.818065  5.905333   \n",
      "...               ...       ...   \n",
      "1978-08-31   9.032258  4.502903   \n",
      "1978-09-30  10.635000  5.725000   \n",
      "1978-10-31   9.295806  4.721290   \n",
      "1978-11-30  13.508000  7.317333   \n",
      "1978-12-31  15.635161  7.094839   \n",
      "\n",
      "                  SHA        BIR  \\\n",
      "date                               \n",
      "1961-01-31  11.072759   8.588065   \n",
      "1961-02-28  13.852143  10.937500   \n",
      "1961-03-31  10.509355   8.866774   \n",
      "1961-04-30   8.435000   6.495000   \n",
      "1961-05-31   9.490323   6.574839   \n",
      "...               ...        ...   \n",
      "1978-08-31   7.368065   5.935161   \n",
      "1978-09-30  10.372000   9.278333   \n",
      "1978-10-31   8.525161   6.774194   \n",
      "1978-11-30  11.475000   8.743000   \n",
      "1978-12-31  11.398710   9.241613   \n",
      "\n",
      "                  DUB        CLA  \\\n",
      "date                               \n",
      "1961-01-31  11.184839   9.245333   \n",
      "1961-02-28  11.890714  11.846071   \n",
      "1961-03-31   9.644194   9.829677   \n",
      "1961-04-30   6.925333   7.094667   \n",
      "1961-05-31   7.604000   8.177097   \n",
      "...               ...        ...   \n",
      "1978-08-31   5.650323   5.417742   \n",
      "1978-09-30  10.790333   9.583000   \n",
      "1978-10-31   8.115484   7.337742   \n",
      "1978-11-30  11.492333   9.657333   \n",
      "1978-12-31  12.077419  10.194839   \n",
      "\n",
      "                  MUL        CLO  \\\n",
      "date                               \n",
      "1961-01-31   9.085806  10.107419   \n",
      "1961-02-28  11.821429  12.714286   \n",
      "1961-03-31  10.294138  11.251935   \n",
      "1961-04-30   7.342333   7.237000   \n",
      "1961-05-31   8.039355   8.499355   \n",
      "...               ...        ...   \n",
      "1978-08-31   7.241290   5.536774   \n",
      "1978-09-30  10.069333   8.939000   \n",
      "1978-10-31   8.297742   8.243871   \n",
      "1978-11-30  10.701333  10.676000   \n",
      "1978-12-31  10.616774  11.028710   \n",
      "\n",
      "                  BEL        MAL  \n",
      "date                              \n",
      "1961-01-31  13.880968  14.703226  \n",
      "1961-02-28  18.583214  15.411786  \n",
      "1961-03-31  16.410968  15.720000  \n",
      "1961-04-30  11.147333  10.278333  \n",
      "1961-05-31  11.900323  12.011613  \n",
      "...               ...        ...  \n",
      "1978-08-31  10.466774  12.054194  \n",
      "1978-09-30  15.680333  19.391333  \n",
      "1978-10-31  13.776774  17.150000  \n",
      "1978-11-30  17.404667  20.723000  \n",
      "1978-12-31  13.859677  21.371613  \n",
      "\n",
      "[216 rows x 12 columns]\n"
     ]
    }
   ],
   "source": [
    "monthly_data = data.resample('M').mean()\n",
    "print(monthly_data)"
   ]
  },
  {
   "cell_type": "markdown",
   "metadata": {},
   "source": [
    "Step 14. Downsample the record to a weekly frequency for each location"
   ]
  },
  {
   "cell_type": "code",
   "execution_count": 33,
   "metadata": {},
   "outputs": [
    {
     "name": "stdout",
     "output_type": "stream",
     "text": [
      "                  RPT        VAL  \\\n",
      "date                               \n",
      "1961-01-01  15.040000  14.960000   \n",
      "1961-01-08  13.541429  11.486667   \n",
      "1961-01-15  12.468571   8.967143   \n",
      "1961-01-22  13.204286   9.862857   \n",
      "1961-01-29  19.880000  16.141429   \n",
      "...               ...        ...   \n",
      "1978-12-03  14.934286  11.232857   \n",
      "1978-12-10  20.740000  19.190000   \n",
      "1978-12-17  16.758571  14.692857   \n",
      "1978-12-24  11.155714   8.008571   \n",
      "1978-12-31  14.951429  11.801429   \n",
      "\n",
      "                  ROS        KIL  \\\n",
      "date                               \n",
      "1961-01-01  13.170000   9.290000   \n",
      "1961-01-08  10.487143   6.417143   \n",
      "1961-01-15  11.958571   4.630000   \n",
      "1961-01-22  12.982857   6.328571   \n",
      "1961-01-29  18.225714  12.720000   \n",
      "...               ...        ...   \n",
      "1978-12-03  13.941429   5.565714   \n",
      "1978-12-10  17.034286   9.777143   \n",
      "1978-12-17  14.987143   6.917143   \n",
      "1978-12-24  13.172857   4.004286   \n",
      "1978-12-31  16.035714   6.507143   \n",
      "\n",
      "                  SHA        BIR  \\\n",
      "date                               \n",
      "1961-01-01        NaN   9.870000   \n",
      "1961-01-08   9.474286   6.435714   \n",
      "1961-01-15   7.351429   5.072857   \n",
      "1961-01-22   8.966667   7.417143   \n",
      "1961-01-29  17.432857  14.828571   \n",
      "...               ...        ...   \n",
      "1978-12-03  10.215714   8.618571   \n",
      "1978-12-10  15.287143  12.774286   \n",
      "1978-12-17  11.397143   7.272857   \n",
      "1978-12-24   7.825714   6.290000   \n",
      "1978-12-31   9.660000   8.620000   \n",
      "\n",
      "                  DUB        CLA  \\\n",
      "date                               \n",
      "1961-01-01  13.670000  10.250000   \n",
      "1961-01-08  11.061429   6.616667   \n",
      "1961-01-15   7.535714   6.820000   \n",
      "1961-01-22   9.257143   7.875714   \n",
      "1961-01-29  15.528571  15.160000   \n",
      "...               ...        ...   \n",
      "1978-12-03   9.642857   7.685714   \n",
      "1978-12-10  14.437143  12.488571   \n",
      "1978-12-17  10.208571   7.967143   \n",
      "1978-12-24   7.798571   8.667143   \n",
      "1978-12-31  13.708571  10.477143   \n",
      "\n",
      "                  MUL        CLO  \\\n",
      "date                               \n",
      "1961-01-01  10.830000  12.580000   \n",
      "1961-01-08   8.434286   8.497143   \n",
      "1961-01-15   5.712857   7.571429   \n",
      "1961-01-22   7.145714   8.124286   \n",
      "1961-01-29  14.480000  15.640000   \n",
      "...               ...        ...   \n",
      "1978-12-03   9.011429   9.547143   \n",
      "1978-12-10  13.870000  14.082857   \n",
      "1978-12-17   9.168571   8.565714   \n",
      "1978-12-24   7.151429   8.072857   \n",
      "1978-12-31  10.868571  11.471429   \n",
      "\n",
      "                  BEL        MAL  \n",
      "date                              \n",
      "1961-01-01  18.500000  15.040000  \n",
      "1961-01-08  12.481429  13.238571  \n",
      "1961-01-15  11.125714  11.024286  \n",
      "1961-01-22   9.821429  11.434286  \n",
      "1961-01-29  20.930000  22.530000  \n",
      "...               ...        ...  \n",
      "1978-12-03  11.835714  18.728571  \n",
      "1978-12-10  18.517143  23.061429  \n",
      "1978-12-17  11.102857  15.562857  \n",
      "1978-12-24  11.845714  18.977143  \n",
      "1978-12-31  12.947143  26.844286  \n",
      "\n",
      "[940 rows x 12 columns]\n"
     ]
    }
   ],
   "source": [
    "weekly_data = data.resample('W').mean()\n",
    "print(weekly_data)"
   ]
  },
  {
   "cell_type": "markdown",
   "metadata": {},
   "source": [
    "Step 15. Calculate the min, max and mean windspeeds and standard deviations of the windspeeds across all locations for each week (assume that the first week starts on January 2 1961) for the first 52 weeks"
   ]
  },
  {
   "cell_type": "code",
   "execution_count": 34,
   "metadata": {},
   "outputs": [
    {
     "name": "stdout",
     "output_type": "stream",
     "text": [
      "              RPT                    \\\n",
      "              min    max       mean   \n",
      "date                                  \n",
      "1961-01-01  15.04  15.04  15.040000   \n",
      "1961-01-08  10.58  18.50  13.541429   \n",
      "1961-01-15   9.04  19.75  12.468571   \n",
      "1961-01-22   4.92  19.83  13.204286   \n",
      "1961-01-29  13.62  25.04  19.880000   \n",
      "1961-02-05  10.58  24.21  16.827143   \n",
      "1961-02-12  16.00  24.54  19.684286   \n",
      "1961-02-19   6.04  22.50  15.130000   \n",
      "1961-02-26   7.79  25.80  15.221429   \n",
      "1961-03-05  10.96  13.33  12.101429   \n",
      "1961-03-12   4.88  14.79   9.376667   \n",
      "1961-03-19   4.92  16.88  11.911429   \n",
      "1961-03-26   6.29  15.00   9.567143   \n",
      "1961-04-02   5.88  18.25  10.757143   \n",
      "1961-04-09   4.50  18.12  11.964286   \n",
      "1961-04-16   4.71  15.50   8.965714   \n",
      "1961-04-23   4.00  21.09  12.621429   \n",
      "1961-04-30   4.08  16.29  10.117143   \n",
      "1961-05-07   9.87  23.00  15.367143   \n",
      "1961-05-14   3.54  12.79   7.772857   \n",
      "1961-05-21   4.88  15.04   8.225714   \n",
      "1961-05-28   4.96  11.79   8.155714   \n",
      "1961-06-04   7.00  15.92  10.321429   \n",
      "1961-06-11   8.29  14.42  10.917143   \n",
      "1961-06-18   6.13  14.33  10.571429   \n",
      "1961-06-25   4.00   9.00   7.345714   \n",
      "1961-07-02   7.21  13.13  10.236667   \n",
      "1961-07-09   7.29  17.50  11.715714   \n",
      "1961-07-16   8.63  22.50  16.680000   \n",
      "1961-07-23   3.04   5.88   4.202857   \n",
      "1961-07-30   6.13  16.08  10.561429   \n",
      "1961-08-06   7.67  16.08  10.870000   \n",
      "1961-08-13   2.88  14.21  10.058333   \n",
      "1961-08-20  13.13  18.91  15.607143   \n",
      "1961-08-27   7.67  18.16  12.391429   \n",
      "1961-09-03   3.63  14.46   8.678571   \n",
      "1961-09-10   5.00  17.62  10.541429   \n",
      "1961-09-17   5.33  28.75  17.160000   \n",
      "1961-09-24   6.92  10.25   8.500000   \n",
      "1961-10-01  10.34  23.21  16.044286   \n",
      "1961-10-08   3.13  16.08  11.250000   \n",
      "1961-10-15   3.71  17.12  10.881667   \n",
      "1961-10-22  10.46  28.62  19.260000   \n",
      "1961-10-29   4.33  26.42  16.077143   \n",
      "1961-11-05   5.88  15.79  11.571429   \n",
      "1961-11-12   5.46  16.08  10.428571   \n",
      "1961-11-19   7.50  15.00  10.798571   \n",
      "1961-11-26   5.75  14.29   9.154286   \n",
      "1961-12-03   7.92  23.75  12.608571   \n",
      "1961-12-10  10.83  23.71  17.362857   \n",
      "1961-12-17   9.29  21.34  14.985714   \n",
      "1961-12-24  11.46  24.41  15.757143   \n",
      "\n",
      "                        VAL         \\\n",
      "                 std    min    max   \n",
      "date                                 \n",
      "1961-01-01       NaN  14.96  14.96   \n",
      "1961-01-08  2.631321   6.63  16.88   \n",
      "1961-01-15  3.555392   3.54  12.08   \n",
      "1961-01-22  5.337402   3.42  14.37   \n",
      "1961-01-29  4.619061   9.96  23.91   \n",
      "1961-02-05  5.251408   9.46  24.21   \n",
      "1961-02-12  3.587677  11.54  21.42   \n",
      "1961-02-19  5.064609  11.63  20.17   \n",
      "1961-02-26  7.020716   7.08  21.50   \n",
      "1961-03-05  0.997721   8.83  17.00   \n",
      "1961-03-12  3.732263   8.08  16.96   \n",
      "1961-03-19  3.860036   9.46  15.54   \n",
      "1961-03-26  3.613298   2.58  11.63   \n",
      "1961-04-02  5.046922   3.50  16.29   \n",
      "1961-04-09  4.604392   7.04  14.62   \n",
      "1961-04-16  3.937727   4.83  12.25   \n",
      "1961-04-23  5.676655   3.71  15.41   \n",
      "1961-04-30  4.349662   6.50  14.46   \n",
      "1961-05-07  5.025507  10.29  19.79   \n",
      "1961-05-14  3.371022   3.96  15.12   \n",
      "1961-05-21  3.631730   3.58  10.17   \n",
      "1961-05-28  2.739433   3.67  12.50   \n",
      "1961-06-04  3.099701   4.75   9.79   \n",
      "1961-06-11  2.248597   6.83  11.54   \n",
      "1961-06-18  3.009482   4.12  14.54   \n",
      "1961-06-25  1.982035   3.25   9.50   \n",
      "1961-07-02  2.557856   6.34  14.37   \n",
      "1961-07-09  3.664855   3.75  10.75   \n",
      "1961-07-16  5.168710   7.87  19.29   \n",
      "1961-07-23  1.047978   2.92   6.79   \n",
      "1961-07-30  4.157641   4.63  13.79   \n",
      "1961-08-06  2.950887   5.09  15.79   \n",
      "1961-08-13  4.422268   4.42  10.00   \n",
      "1961-08-20  2.283635   7.25  13.62   \n",
      "1961-08-27  3.395857   6.87  14.58   \n",
      "1961-09-03  4.398615   1.13  22.00   \n",
      "1961-09-10  5.207278   3.04  13.59   \n",
      "1961-09-17  7.679190   7.12  22.08   \n",
      "1961-09-24  1.267399   2.92  13.62   \n",
      "1961-10-01  4.559572   6.96  13.62   \n",
      "1961-10-08  5.596710   3.63  16.96   \n",
      "1961-10-15  4.780675   6.13  13.25   \n",
      "1961-10-22  7.888314   3.75  19.46   \n",
      "1961-10-29  7.957637   2.75  21.25   \n",
      "1961-11-05  3.369201   3.96  13.46   \n",
      "1961-11-12  3.939811   5.50  10.75   \n",
      "1961-11-19  2.784358   4.21  13.00   \n",
      "1961-11-26  3.214368   3.29  11.79   \n",
      "1961-12-03  5.704669   4.67  18.71   \n",
      "1961-12-10  4.890152   9.21  21.37   \n",
      "1961-12-17  4.095106   8.63  17.62   \n",
      "1961-12-24  4.959717   9.79  16.13   \n",
      "\n",
      "                                 \\\n",
      "                 mean       std   \n",
      "date                              \n",
      "1961-01-01  14.960000       NaN   \n",
      "1961-01-08  11.486667  3.949525   \n",
      "1961-01-15   8.967143  3.148945   \n",
      "1961-01-22   9.862857  3.837785   \n",
      "1961-01-29  16.141429  5.170224   \n",
      "1961-02-05  15.460000  5.187395   \n",
      "1961-02-12  16.417143  3.608373   \n",
      "1961-02-19  15.091429  3.575012   \n",
      "1961-02-26  13.625714  5.147348   \n",
      "1961-03-05  12.951429  2.851955   \n",
      "1961-03-12  11.578571  3.230167   \n",
      "1961-03-19  13.501429  2.352867   \n",
      "1961-03-26   8.387143  3.657265   \n",
      "1961-04-02   8.852857  4.687315   \n",
      "1961-04-09  10.654286  2.845399   \n",
      "1961-04-16   8.000000  2.607118   \n",
      "1961-04-23  10.438571  4.631736   \n",
      "1961-04-30   9.798571  2.871425   \n",
      "1961-05-07  13.970000  3.750835   \n",
      "1961-05-14   8.712857  3.782947   \n",
      "1961-05-21   5.631667  2.468906   \n",
      "1961-05-28   7.388571  3.378537   \n",
      "1961-06-04   7.407143  1.868125   \n",
      "1961-06-11   8.992857  1.524836   \n",
      "1961-06-18   9.565714  3.509444   \n",
      "1961-06-25   6.108571  2.212460   \n",
      "1961-07-02   9.482857  2.902411   \n",
      "1961-07-09   7.220000  2.686658   \n",
      "1961-07-16  13.518571  3.849630   \n",
      "1961-07-23   4.255714  1.400010   \n",
      "1961-07-30   8.445714  3.203206   \n",
      "1961-08-06   8.792857  3.985226   \n",
      "1961-08-13   7.941429  2.053326   \n",
      "1961-08-20  10.565714  2.523416   \n",
      "1961-08-27  11.430000  3.174702   \n",
      "1961-09-03   8.821429  7.474025   \n",
      "1961-09-10   8.798571  4.003996   \n",
      "1961-09-17  14.440000  5.360585   \n",
      "1961-09-24   7.154286  3.445262   \n",
      "1961-10-01  11.361667  2.812482   \n",
      "1961-10-08   8.757143  5.060803   \n",
      "1961-10-15   9.734286  2.707483   \n",
      "1961-10-22  13.364286  5.998199   \n",
      "1961-10-29  11.867143  6.879973   \n",
      "1961-11-05   9.590000  3.900278   \n",
      "1961-11-12   7.690000  2.141191   \n",
      "1961-11-19   7.951429  3.208548   \n",
      "1961-11-26   7.337143  3.277904   \n",
      "1961-12-03  10.442857  5.107089   \n",
      "1961-12-10  14.362857  4.115506   \n",
      "1961-12-17  13.472857  3.587886   \n",
      "1961-12-24  11.971429  2.220866   \n",
      "\n",
      "              ROS         ...  \\\n",
      "              min    max  ...   \n",
      "date                      ...   \n",
      "1961-01-01  13.17  13.17  ...   \n",
      "1961-01-08   7.62  12.33  ...   \n",
      "1961-01-15   7.08  19.50  ...   \n",
      "1961-01-22   7.29  20.79  ...   \n",
      "1961-01-29  12.67  25.84  ...   \n",
      "1961-02-05   9.04  19.70  ...   \n",
      "1961-02-12  13.67  21.34  ...   \n",
      "1961-02-19   6.13  19.41  ...   \n",
      "1961-02-26   6.08  22.42  ...   \n",
      "1961-03-05   8.17  13.67  ...   \n",
      "1961-03-12   7.54  16.38  ...   \n",
      "1961-03-19   5.25  13.96  ...   \n",
      "1961-03-26   4.79  15.63  ...   \n",
      "1961-04-02   5.09  14.96  ...   \n",
      "1961-04-09   9.29  18.29  ...   \n",
      "1961-04-16   3.92  15.79  ...   \n",
      "1961-04-23   3.33  17.00  ...   \n",
      "1961-04-30   2.54  14.96  ...   \n",
      "1961-05-07   8.42  21.21  ...   \n",
      "1961-05-14   4.63  12.33  ...   \n",
      "1961-05-21   5.91  15.96  ...   \n",
      "1961-05-28   3.58  20.96  ...   \n",
      "1961-06-04   6.83  15.96  ...   \n",
      "1961-06-11   6.04  11.58  ...   \n",
      "1961-06-18   6.50  15.50  ...   \n",
      "1961-06-25   5.13  10.37  ...   \n",
      "1961-07-02   7.62  10.79  ...   \n",
      "1961-07-09   7.41  14.92  ...   \n",
      "1961-07-16   8.00  14.29  ...   \n",
      "1961-07-23   4.08  12.67  ...   \n",
      "1961-07-30   6.42  15.67  ...   \n",
      "1961-08-06   5.54  15.59  ...   \n",
      "1961-08-13   6.00  11.63  ...   \n",
      "1961-08-20   9.17  14.04  ...   \n",
      "1961-08-27   9.50  17.83  ...   \n",
      "1961-09-03   2.42  12.75  ...   \n",
      "1961-09-10   3.63  14.88  ...   \n",
      "1961-09-17   7.29  26.50  ...   \n",
      "1961-09-24   5.33  12.17  ...   \n",
      "1961-10-01   7.87  17.58  ...   \n",
      "1961-10-08   4.96  17.83  ...   \n",
      "1961-10-15   4.21  20.96  ...   \n",
      "1961-10-22   9.92  22.63  ...   \n",
      "1961-10-29   4.79  23.09  ...   \n",
      "1961-11-05   6.54  14.33  ...   \n",
      "1961-11-12   3.83  20.41  ...   \n",
      "1961-11-19   6.46  32.71  ...   \n",
      "1961-11-26   4.42  14.46  ...   \n",
      "1961-12-03   8.00  19.92  ...   \n",
      "1961-12-10   9.71  20.54  ...   \n",
      "1961-12-17   9.04  19.00  ...   \n",
      "1961-12-24   8.08  22.13  ...   \n",
      "\n",
      "                  CLO            \\\n",
      "                 mean       std   \n",
      "date                              \n",
      "1961-01-01  12.580000       NaN   \n",
      "1961-01-08   8.497143  1.704941   \n",
      "1961-01-15   7.571429  4.084293   \n",
      "1961-01-22   8.124286  4.783952   \n",
      "1961-01-29  15.640000  3.713368   \n",
      "1961-02-05   9.460000  2.839501   \n",
      "1961-02-12  14.440000  1.746749   \n",
      "1961-02-19  13.542857  2.531361   \n",
      "1961-02-26  12.730000  4.920064   \n",
      "1961-03-05  12.370000  1.593685   \n",
      "1961-03-12  10.458571  3.655113   \n",
      "1961-03-19  11.627143  3.099472   \n",
      "1961-03-26  11.481429  2.538224   \n",
      "1961-04-02   9.631429  3.191115   \n",
      "1961-04-09   7.238571  2.336182   \n",
      "1961-04-16   6.178571  2.161137   \n",
      "1961-04-23   9.551429  3.347972   \n",
      "1961-04-30   6.124286  2.840568   \n",
      "1961-05-07  11.585714  3.620819   \n",
      "1961-05-14   7.822857  5.460237   \n",
      "1961-05-21   7.114286  2.216889   \n",
      "1961-05-28   7.535714  2.575661   \n",
      "1961-06-04   9.035714  2.096989   \n",
      "1961-06-11   8.397143  2.158323   \n",
      "1961-06-18   9.594286  3.792400   \n",
      "1961-06-25  11.257143  2.286218   \n",
      "1961-07-02  10.268571  1.564144   \n",
      "1961-07-09  10.547143  3.657179   \n",
      "1961-07-16  10.157143  3.271899   \n",
      "1961-07-23   6.041429  1.439785   \n",
      "1961-07-30   9.470000  4.350268   \n",
      "1961-08-06   8.951429  2.903018   \n",
      "1961-08-13   7.235000  2.073777   \n",
      "1961-08-20  12.244286  2.730237   \n",
      "1961-08-27  12.507143  3.855302   \n",
      "1961-09-03   8.924286  3.993736   \n",
      "1961-09-10   7.565714  3.649278   \n",
      "1961-09-17  14.268571  5.128338   \n",
      "1961-09-24   6.798571  2.354092   \n",
      "1961-10-01  11.840000  3.908397   \n",
      "1961-10-08   7.662857  4.296870   \n",
      "1961-10-15   9.494286  3.569308   \n",
      "1961-10-22  16.461429  5.890511   \n",
      "1961-10-29  12.952857  6.277629   \n",
      "1961-11-05  11.864286  2.784450   \n",
      "1961-11-12   6.415714  2.843518   \n",
      "1961-11-19   6.031429  4.402588   \n",
      "1961-11-26   9.582857  2.747452   \n",
      "1961-12-03   7.911429  3.680477   \n",
      "1961-12-10  12.022857  4.156207   \n",
      "1961-12-17  11.058571  4.633398   \n",
      "1961-12-24   7.697143  4.637096   \n",
      "\n",
      "              BEL                    \\\n",
      "              min    max       mean   \n",
      "date                                  \n",
      "1961-01-01  18.50  18.50  18.500000   \n",
      "1961-01-08   5.46  17.54  12.481429   \n",
      "1961-01-15   5.25  20.71  11.125714   \n",
      "1961-01-22   6.50  15.92   9.821429   \n",
      "1961-01-29  14.04  27.71  20.930000   \n",
      "1961-02-05   9.17  19.33  14.012857   \n",
      "1961-02-12  15.21  26.38  21.832857   \n",
      "1961-02-19  14.09  29.63  21.167143   \n",
      "1961-02-26   9.59  23.21  16.304286   \n",
      "1961-03-05  11.58  23.45  17.842857   \n",
      "1961-03-12  10.21  22.71  16.701429   \n",
      "1961-03-19  11.29  22.79  19.350000   \n",
      "1961-03-26   8.25  21.34  14.037143   \n",
      "1961-04-02   7.21  18.63  13.471429   \n",
      "1961-04-09   7.62  17.16  11.712857   \n",
      "1961-04-16   5.75  16.17   9.482857   \n",
      "1961-04-23   6.75  19.21  13.620000   \n",
      "1961-04-30   5.13  13.04   9.720000   \n",
      "1961-05-07   4.79  28.08  17.548571   \n",
      "1961-05-14   6.54  18.66  10.421429   \n",
      "1961-05-21   6.63  12.00   9.624286   \n",
      "1961-05-28   6.13  14.33  10.518571   \n",
      "1961-06-04   8.71  17.00  12.298571   \n",
      "1961-06-11   5.37  16.17  10.148571   \n",
      "1961-06-18   7.29  25.25  15.351429   \n",
      "1961-06-25  11.00  19.08  14.370000   \n",
      "1961-07-02   6.96  21.87  14.535714   \n",
      "1961-07-09   7.08  20.41  12.220000   \n",
      "1961-07-16   5.04  20.25  13.520000   \n",
      "1961-07-23   4.21  10.13   7.524286   \n",
      "1961-07-30   7.87  22.17  12.841429   \n",
      "1961-08-06   6.17  18.54  11.595714   \n",
      "1961-08-13   5.88  14.29  10.934286   \n",
      "1961-08-20   9.59  21.92  14.922857   \n",
      "1961-08-27   5.75  23.38  16.251429   \n",
      "1961-09-03   4.79  24.71  13.664286   \n",
      "1961-09-10   5.41  15.83  10.700000   \n",
      "1961-09-17  13.92  23.91  19.878571   \n",
      "1961-09-24   4.54  20.96  11.018571   \n",
      "1961-10-01   7.79  21.37  16.208571   \n",
      "1961-10-08   4.79  17.83   8.810000   \n",
      "1961-10-15   8.54  20.46  14.451429   \n",
      "1961-10-22  10.88  24.71  17.477143   \n",
      "1961-10-29   8.50  27.29  15.592857   \n",
      "1961-11-05  10.29  20.17  16.322857   \n",
      "1961-11-12   6.13  12.58   9.208571   \n",
      "1961-11-19   0.71   9.59   5.875714   \n",
      "1961-11-26   6.50  20.46  11.772857   \n",
      "1961-12-03   5.50  19.04  11.464286   \n",
      "1961-12-10  10.71  21.79  15.975714   \n",
      "1961-12-17   5.50  22.83  15.112857   \n",
      "1961-12-24   5.29  17.67   9.958571   \n",
      "\n",
      "                        MAL         \\\n",
      "                 std    min    max   \n",
      "date                                 \n",
      "1961-01-01       NaN  15.04  15.04   \n",
      "1961-01-08  4.349139  10.88  16.46   \n",
      "1961-01-15  5.552215   5.17  16.92   \n",
      "1961-01-22  3.626584   6.79  17.96   \n",
      "1961-01-29  5.210726  17.50  27.63   \n",
      "1961-02-05  4.210858   7.17  19.25   \n",
      "1961-02-12  4.063753  17.04  21.84   \n",
      "1961-02-19  5.910938  10.96  22.58   \n",
      "1961-02-26  5.091162   6.67  23.87   \n",
      "1961-03-05  4.332331   8.83  17.54   \n",
      "1961-03-12  4.358759   5.54  22.54   \n",
      "1961-03-19  3.779727  11.34  22.95   \n",
      "1961-03-26  4.318069  13.13  22.50   \n",
      "1961-04-02  4.179854   7.17  19.58   \n",
      "1961-04-09  3.147781   7.21  15.34   \n",
      "1961-04-16  3.641464   5.66  12.87   \n",
      "1961-04-23  4.735096   4.96  20.46   \n",
      "1961-04-30  2.948237   2.67  17.50   \n",
      "1961-05-07  8.003490   3.83  26.58   \n",
      "1961-05-14  3.968272   3.33  26.30   \n",
      "1961-05-21  1.975853   5.91  14.96   \n",
      "1961-05-28  3.024524   8.00  17.04   \n",
      "1961-06-04  2.611139  10.63  17.96   \n",
      "1961-06-11  3.993062   5.96  19.83   \n",
      "1961-06-18  6.477887   6.13  24.71   \n",
      "1961-06-25  2.498386  13.75  21.50   \n",
      "1961-07-02  6.303747   8.50  16.79   \n",
      "1961-07-09  4.537988  12.08  21.29   \n",
      "1961-07-16  4.971060   5.96  21.96   \n",
      "1961-07-23  2.050218   5.41  10.92   \n",
      "1961-07-30  5.580903   6.13  25.37   \n",
      "1961-08-06  4.901377   9.08  20.25   \n",
      "1961-08-13  2.931302   5.88  15.16   \n",
      "1961-08-20  4.086725  13.04  24.30   \n",
      "1961-08-27  6.711322   8.29  22.29   \n",
      "1961-09-03  7.678051   5.41  22.54   \n",
      "1961-09-10  4.220584   3.37  20.25   \n",
      "1961-09-17  4.464252  14.67  33.09   \n",
      "1961-09-24  5.235868   5.25  14.62   \n",
      "1961-10-01  5.091268   4.04  17.16   \n",
      "1961-10-08  4.800403   4.83  19.62   \n",
      "1961-10-15  4.113200  10.75  21.04   \n",
      "1961-10-22  5.645871  13.46  33.45   \n",
      "1961-10-29  7.056150   9.83  30.88   \n",
      "1961-11-05  4.038493  13.37  23.58   \n",
      "1961-11-12  2.532196   5.71  15.54   \n",
      "1961-11-19  3.643285   2.00  13.25   \n",
      "1961-11-26  5.407223   4.25  22.58   \n",
      "1961-12-03  5.552648   5.88  21.29   \n",
      "1961-12-10  4.667933   7.58  29.33   \n",
      "1961-12-17  6.531043   6.50  21.12   \n",
      "1961-12-24  5.065308   2.62  16.62   \n",
      "\n",
      "                                 \n",
      "                 mean       std  \n",
      "date                             \n",
      "1961-01-01  15.040000       NaN  \n",
      "1961-01-08  13.238571  1.773062  \n",
      "1961-01-15  11.024286  4.692355  \n",
      "1961-01-22  11.434286  4.237239  \n",
      "1961-01-29  22.530000  3.874721  \n",
      "1961-02-05  11.935714  4.336104  \n",
      "1961-02-12  19.155714  1.828705  \n",
      "1961-02-19  16.584286  4.685377  \n",
      "1961-02-26  14.322857  6.182283  \n",
      "1961-03-05  13.951667  3.021387  \n",
      "1961-03-12  14.420000  5.769890  \n",
      "1961-03-19  16.227143  4.331958  \n",
      "1961-03-26  18.134286  3.701846  \n",
      "1961-04-02  13.900000  3.924555  \n",
      "1961-04-09  11.371429  2.598271  \n",
      "1961-04-16   8.690000  2.747842  \n",
      "1961-04-23  12.470000  5.908542  \n",
      "1961-04-30   8.637143  5.108365  \n",
      "1961-05-07  14.571429  7.728504  \n",
      "1961-05-14  10.382857  7.858246  \n",
      "1961-05-21  10.612857  3.310819  \n",
      "1961-05-28  11.697143  3.811818  \n",
      "1961-06-04  13.597143  2.593586  \n",
      "1961-06-11  12.250000  4.925055  \n",
      "1961-06-18  15.025714  6.242673  \n",
      "1961-06-25  17.410000  3.063011  \n",
      "1961-07-02  12.133333  3.652313  \n",
      "1961-07-09  15.987143  3.665705  \n",
      "1961-07-16  12.524286  4.974273  \n",
      "1961-07-23   8.415714  2.133994  \n",
      "1961-07-30  13.761429  6.664574  \n",
      "1961-08-06  13.760000  4.448251  \n",
      "1961-08-13  10.125714  3.356585  \n",
      "1961-08-20  16.626667  3.934238  \n",
      "1961-08-27  16.485714  4.947608  \n",
      "1961-09-03  11.022857  6.308087  \n",
      "1961-09-10  11.034286  6.049619  \n",
      "1961-09-17  18.984286  6.332885  \n",
      "1961-09-24   9.814286  3.113507  \n",
      "1961-10-01  13.338571  4.696504  \n",
      "1961-10-08  11.410000  5.462002  \n",
      "1961-10-15  15.260000  4.098130  \n",
      "1961-10-22  23.641429  7.468377  \n",
      "1961-10-29  18.404286  8.340881  \n",
      "1961-11-05  19.195714  3.870800  \n",
      "1961-11-12  10.858571  3.690752  \n",
      "1961-11-19   5.737143  3.787654  \n",
      "1961-11-26  12.732857  6.475867  \n",
      "1961-12-03  14.725714  5.233192  \n",
      "1961-12-10  16.241429  7.345893  \n",
      "1961-12-17  14.644286  5.665006  \n",
      "1961-12-24   8.164286  5.048035  \n",
      "\n",
      "[52 rows x 48 columns]\n"
     ]
    }
   ],
   "source": [
    "weekly_stats = data.resample('W').agg(['min', 'max', 'mean', 'std']).iloc[:52]\n",
    "print(weekly_stats)"
   ]
  },
  {
   "cell_type": "markdown",
   "metadata": {},
   "source": [
    "Question 5\n",
    "Step 1. Import the necessary libraries\n",
    "\n",
    "Step 2. Import the dataset from this address.\n",
    "\n",
    "Step 3. Assign it to a variable called chipo.\n",
    "\n",
    "Step 4. See the first 10 entries\n",
    "\n",
    "Step 5. What is the number of observations in the dataset?\n",
    "\n",
    "Step 6. What is the number of columns in the dataset?\n",
    "\n",
    "Step 7. Print the name of all the columns.\n",
    "\n",
    "Step 8. How is the dataset indexed?\n",
    "\n",
    "Step 9. Which was the most-ordered item?\n",
    "\n",
    "Step 10. For the most-ordered item, how many items were ordered?\n",
    "\n",
    "Step 11. What was the most ordered item in the choice_description column?\n",
    "\n",
    "Step 12. How many items were orderd in total?\n",
    "\n",
    "Step 13.\n",
    "\n",
    "• Turn the item price into a float\n",
    "• Check the item price type\n",
    "• Create a lambda function and change the type of item price\n",
    "• Check the item price type\n",
    "\n",
    "Step 14. How much was the revenue for the period in the dataset?\n",
    "\n",
    "Step 15. How many orders were made in the period?\n",
    "\n",
    "Step 16. What is the average revenue amount per order?\n",
    "\n",
    "Step 17. How many different items are sold?"
   ]
  },
  {
   "cell_type": "code",
   "execution_count": 35,
   "metadata": {},
   "outputs": [],
   "source": [
    "# Step 1. Import the necessary libraries\n",
    "import pandas as pd\n"
   ]
  },
  {
   "cell_type": "code",
   "execution_count": 76,
   "metadata": {},
   "outputs": [],
   "source": [
    "# Step 2. Import the dataset from the given address\n",
    "url = \"https://raw.githubusercontent.com/justmarkham/DAT8/master/data/chipotle.tsv\"\n",
    "chipo = pd.read_csv(url, delimiter='\\t')"
   ]
  },
  {
   "cell_type": "code",
   "execution_count": 77,
   "metadata": {},
   "outputs": [
    {
     "name": "stdout",
     "output_type": "stream",
     "text": [
      "First 10 entries:\n",
      "    order_id  quantity  \\\n",
      "0         1         1   \n",
      "1         1         1   \n",
      "2         1         1   \n",
      "3         1         1   \n",
      "4         2         2   \n",
      "5         3         1   \n",
      "6         3         1   \n",
      "7         4         1   \n",
      "8         4         1   \n",
      "9         5         1   \n",
      "\n",
      "                               item_name  \\\n",
      "0           Chips and Fresh Tomato Salsa   \n",
      "1                                   Izze   \n",
      "2                       Nantucket Nectar   \n",
      "3  Chips and Tomatillo-Green Chili Salsa   \n",
      "4                           Chicken Bowl   \n",
      "5                           Chicken Bowl   \n",
      "6                          Side of Chips   \n",
      "7                          Steak Burrito   \n",
      "8                       Steak Soft Tacos   \n",
      "9                          Steak Burrito   \n",
      "\n",
      "                                  choice_description  \\\n",
      "0                                                NaN   \n",
      "1                                       [Clementine]   \n",
      "2                                            [Apple]   \n",
      "3                                                NaN   \n",
      "4  [Tomatillo-Red Chili Salsa (Hot), [Black Beans...   \n",
      "5  [Fresh Tomato Salsa (Mild), [Rice, Cheese, Sou...   \n",
      "6                                                NaN   \n",
      "7  [Tomatillo Red Chili Salsa, [Fajita Vegetables...   \n",
      "8  [Tomatillo Green Chili Salsa, [Pinto Beans, Ch...   \n",
      "9  [Fresh Tomato Salsa, [Rice, Black Beans, Pinto...   \n",
      "\n",
      "  item_price  \n",
      "0     $2.39   \n",
      "1     $3.39   \n",
      "2     $3.39   \n",
      "3     $2.39   \n",
      "4    $16.98   \n",
      "5    $10.98   \n",
      "6     $1.69   \n",
      "7    $11.75   \n",
      "8     $9.25   \n",
      "9     $9.25   \n"
     ]
    }
   ],
   "source": [
    "# Step 4. See the first 10 entries\n",
    "print(\"First 10 entries:\\n\", chipo.head(10))"
   ]
  },
  {
   "cell_type": "code",
   "execution_count": 78,
   "metadata": {},
   "outputs": [
    {
     "name": "stdout",
     "output_type": "stream",
     "text": [
      "Number of observations: 4622\n"
     ]
    }
   ],
   "source": [
    "# Step 5. What is the number of observations in the dataset?\n",
    "num_observations = chipo.shape[0]\n",
    "print(\"Number of observations:\", num_observations)"
   ]
  },
  {
   "cell_type": "code",
   "execution_count": 79,
   "metadata": {},
   "outputs": [
    {
     "name": "stdout",
     "output_type": "stream",
     "text": [
      "Number of columns: 5\n"
     ]
    }
   ],
   "source": [
    "\n",
    "# Step 6. What is the number of columns in the dataset?\n",
    "num_columns = chipo.shape[1]\n",
    "print(\"Number of columns:\", num_columns)"
   ]
  },
  {
   "cell_type": "code",
   "execution_count": 81,
   "metadata": {},
   "outputs": [
    {
     "name": "stdout",
     "output_type": "stream",
     "text": [
      "Name of all columns:\n",
      " ['order_id', 'quantity', 'item_name', 'choice_description', 'item_price']\n"
     ]
    }
   ],
   "source": [
    "\n",
    "# Step 7. Print the name of all the columns.\n",
    "print(\"Name of all columns:\\n\", chipo.columns.to_list())"
   ]
  },
  {
   "cell_type": "code",
   "execution_count": 82,
   "metadata": {},
   "outputs": [
    {
     "name": "stdout",
     "output_type": "stream",
     "text": [
      "Dataset index:\n",
      " RangeIndex(start=0, stop=4622, step=1)\n"
     ]
    }
   ],
   "source": [
    "\n",
    "# Step 8. How is the dataset indexed?\n",
    "print(\"Dataset index:\\n\", chipo.index)"
   ]
  },
  {
   "cell_type": "code",
   "execution_count": 83,
   "metadata": {},
   "outputs": [
    {
     "name": "stdout",
     "output_type": "stream",
     "text": [
      "Most-ordered item: Chicken Bowl\n"
     ]
    }
   ],
   "source": [
    "\n",
    "# Step 9. Which was the most-ordered item?\n",
    "most_ordered_item = chipo['item_name'].value_counts().idxmax()\n",
    "print(\"Most-ordered item:\", most_ordered_item)"
   ]
  },
  {
   "cell_type": "code",
   "execution_count": 84,
   "metadata": {},
   "outputs": [
    {
     "name": "stdout",
     "output_type": "stream",
     "text": [
      "Quantity of the most-ordered item: 761\n"
     ]
    }
   ],
   "source": [
    "\n",
    "# Step 10. For the most-ordered item, how many items were ordered?\n",
    "most_ordered_item_quantity = chipo[chipo['item_name'] == most_ordered_item]['quantity'].sum()\n",
    "print(\"Quantity of the most-ordered item:\", most_ordered_item_quantity)"
   ]
  },
  {
   "cell_type": "code",
   "execution_count": 85,
   "metadata": {},
   "outputs": [
    {
     "name": "stdout",
     "output_type": "stream",
     "text": [
      "Most ordered item in the choice_description column: [Diet Coke]\n"
     ]
    }
   ],
   "source": [
    "\n",
    "# Step 11. What was the most ordered item in the choice_description column?\n",
    "most_ordered_choice = chipo['choice_description'].value_counts().idxmax()\n",
    "print(\"Most ordered item in the choice_description column:\", most_ordered_choice)"
   ]
  },
  {
   "cell_type": "code",
   "execution_count": 86,
   "metadata": {},
   "outputs": [
    {
     "name": "stdout",
     "output_type": "stream",
     "text": [
      "Total items ordered: 4972\n"
     ]
    }
   ],
   "source": [
    "\n",
    "# Step 12. How many items were ordered in total?\n",
    "total_items_ordered = chipo['quantity'].sum()\n",
    "print(\"Total items ordered:\", total_items_ordered)"
   ]
  },
  {
   "cell_type": "code",
   "execution_count": 87,
   "metadata": {},
   "outputs": [
    {
     "name": "stdout",
     "output_type": "stream",
     "text": [
      "Item price type after conversion: float64\n"
     ]
    }
   ],
   "source": [
    "\n",
    "# Step 13.\n",
    "# • Turn the item price into a float\n",
    "# • Check the item price type\n",
    "# • Create a lambda function and change the type of item price\n",
    "# • Check the item price type\n",
    "\n",
    "chipo['item_price'] = chipo['item_price'].apply(lambda x: float(x[1:]))\n",
    "print(\"Item price type after conversion:\", chipo['item_price'].dtype)\n"
   ]
  },
  {
   "cell_type": "code",
   "execution_count": 90,
   "metadata": {},
   "outputs": [
    {
     "name": "stdout",
     "output_type": "stream",
     "text": [
      "Revenue for the period: 39237.02\n"
     ]
    }
   ],
   "source": [
    "\n",
    "# Step 14. How much was the revenue for the period in the dataset?\n",
    "revenue = (chipo['quantity'] * chipo['item_price']).sum()\n",
    "print(\"Revenue for the period:\", revenue)"
   ]
  },
  {
   "cell_type": "code",
   "execution_count": 91,
   "metadata": {},
   "outputs": [
    {
     "name": "stdout",
     "output_type": "stream",
     "text": [
      "Number of orders made: 1834\n"
     ]
    }
   ],
   "source": [
    "\n",
    "# Step 15. How many orders were made in the period?\n",
    "num_orders = chipo['order_id'].nunique()\n",
    "print(\"Number of orders made:\", num_orders)"
   ]
  },
  {
   "cell_type": "code",
   "execution_count": 92,
   "metadata": {},
   "outputs": [
    {
     "name": "stdout",
     "output_type": "stream",
     "text": [
      "Average revenue amount per order: 21.39423118865867\n"
     ]
    }
   ],
   "source": [
    "\n",
    "# Step 16. What is the average revenue amount per order?\n",
    "average_revenue_per_order = revenue / num_orders\n",
    "print(\"Average revenue amount per order:\", average_revenue_per_order)"
   ]
  },
  {
   "cell_type": "code",
   "execution_count": 93,
   "metadata": {},
   "outputs": [
    {
     "name": "stdout",
     "output_type": "stream",
     "text": [
      "Number of different items sold: 50\n"
     ]
    }
   ],
   "source": [
    "\n",
    "# Step 17. How many different items are sold?\n",
    "num_different_items = chipo['item_name'].nunique()\n",
    "print(\"Number of different items sold:\", num_different_items)"
   ]
  },
  {
   "cell_type": "markdown",
   "metadata": {},
   "source": [
    "**Question 6\n",
    "\n",
    "Create a line plot showing the number of marriages and divorces per capita in the U.S. between 1867 and 2014. Label both lines and show the legend.\n",
    "Don't forget to label your axes!"
   ]
  },
  {
   "cell_type": "code",
   "execution_count": 51,
   "metadata": {},
   "outputs": [],
   "source": [
    "# Step 1. Import the necessary libraries\n",
    "import pandas as pd\n",
    "import matplotlib.pyplot as plt"
   ]
  },
  {
   "cell_type": "code",
   "execution_count": 52,
   "metadata": {},
   "outputs": [],
   "source": [
    "\n",
    "# Step 2. Import the dataset\n",
    "file_path = \"us-marriages-divorces-1867-2014.csv\"\n",
    "data = pd.read_csv(file_path)"
   ]
  },
  {
   "cell_type": "code",
   "execution_count": 53,
   "metadata": {},
   "outputs": [
    {
     "data": {
      "image/png": "[encoded data removed]",
      "text/plain": [
       "<Figure size 1200x600 with 1 Axes>"
      ]
     },
     "metadata": {},
     "output_type": "display_data"
    }
   ],
   "source": [
    "\n",
    "# Step 3. Create a line plot\n",
    "plt.figure(figsize=(12, 6))\n",
    "\n",
    "# Plotting marriages per capita\n",
    "plt.plot(data['Year'], data['Marriages_per_1000'], label='Marriages per 1000', color='blue')\n",
    "\n",
    "# Plotting divorces per capita\n",
    "plt.plot(data['Year'], data['Divorces_per_1000'], label='Divorces per 1000', color='red')\n",
    "\n",
    "# Adding labels and title\n",
    "plt.xlabel('Year')\n",
    "plt.ylabel('Per Capita')\n",
    "plt.title('Number of Marriages and Divorces Per Capita in the U.S. (1867-2014)')\n",
    "\n",
    "# Adding legend\n",
    "plt.legend()\n",
    "\n",
    "# Display the plot\n",
    "plt.show()"
   ]
  },
  {
   "cell_type": "markdown",
   "metadata": {},
   "source": [
    "Question 7\n",
    "\n",
    "Create a vertical bar chart comparing the number of marriages and divorces per capita in the U.S. between 1900, 1950, and 2000.\n",
    "Don't forget to label your axes!"
   ]
  },
  {
   "cell_type": "code",
   "execution_count": 60,
   "metadata": {},
   "outputs": [
    {
     "data": {
      "image/png": "[encoded data removed]",
      "text/plain": [
       "<Figure size 1000x600 with 1 Axes>"
      ]
     },
     "metadata": {},
     "output_type": "display_data"
    }
   ],
   "source": [
    "# Filter data for the specified years\n",
    "selected_years = [1900, 1950, 2000]\n",
    "selected_data = data[data['Year'].isin(selected_years)].copy()\n",
    "\n",
    "# Calculate marriages and divorces per capita for the selected years using loc\n",
    "selected_data['Marriages_Per_1000'] = selected_data['Marriages'] / selected_data['Population'] * 1000\n",
    "selected_data['Divorces_Per_1000'] = selected_data['Divorces'] / selected_data['Population'] * 1000\n",
    "\n",
    "# Set bar width\n",
    "bar_width = 10\n",
    "\n",
    "# Plotting\n",
    "plt.figure(figsize=(10, 6))\n",
    "\n",
    "# Set bar positions\n",
    "marriages_positions = selected_data['Year'] - bar_width / 2\n",
    "divorces_positions = selected_data['Year'] + bar_width / 2\n",
    "\n",
    "# Plot bars\n",
    "plt.bar(marriages_positions, selected_data['Marriages_Per_1000'], width=bar_width, label='Marriages per 1000 people')\n",
    "plt.bar(divorces_positions, selected_data['Divorces_Per_1000'], width=bar_width, label='Divorces per 1000 people')\n",
    "\n",
    "# Set plot details\n",
    "plt.title('Marriages and Divorces per 1000 People in the U.S. (1900, 1950, 2000)')\n",
    "plt.xlabel('Year')\n",
    "plt.ylabel('Rate per 1000 People')\n",
    "plt.legend()\n",
    "plt.xticks(selected_data['Year'])\n",
    "plt.show()\n"
   ]
  },
  {
   "cell_type": "markdown",
   "metadata": {},
   "source": [
    "Question 8\n",
    "Create a horizontal bar chart that compares the deadliest actors in Hollywood. Sort the actors by their kill count and label each bar with the corresponding actor's name. Don't forget to label your axes!"
   ]
  },
  {
   "cell_type": "code",
   "execution_count": 61,
   "metadata": {},
   "outputs": [
    {
     "data": {
      "image/png": "[encoded data removed]",
      "text/plain": [
       "<Figure size 1000x800 with 1 Axes>"
      ]
     },
     "metadata": {},
     "output_type": "display_data"
    }
   ],
   "source": [
    "file_path = 'actor_kill_counts.csv'\n",
    "actor_data = pd.read_csv(file_path)\n",
    "\n",
    "# Sort the data by kill count in descending order\n",
    "sorted_actor_data = actor_data.sort_values(by='Count', ascending=True)  # Changed to ascending for horizontal bar chart\n",
    "\n",
    "# Plotting\n",
    "plt.figure(figsize=(10, 8))\n",
    "\n",
    "plt.barh(sorted_actor_data['Actor'], sorted_actor_data['Count'], color='grey')\n",
    "plt.ylabel('Actor')  # Swapped x-axis and y-axis for horizontal bar chart\n",
    "plt.xlabel('Count')\n",
    "plt.title('Deadliest Actors in Hollywood')\n",
    "\n",
    "# Adding labels to the bars\n",
    "for index, value in enumerate(sorted_actor_data['Count']):\n",
    "    plt.text(value, index, str(value))\n",
    "\n",
    "plt.show()\n"
   ]
  },
  {
   "cell_type": "markdown",
   "metadata": {},
   "source": [
    "Question 9\n",
    "\n",
    "Create a pie chart showing the fraction of all Roman Emperors that were assassinated.\n",
    "\n",
    "Make sure that the pie chart is an even circle, labels the categories, and shows the percentage breakdown of the categories."
   ]
  },
  {
   "cell_type": "code",
   "execution_count": 63,
   "metadata": {},
   "outputs": [
    {
     "data": {
      "image/png": "[encoded data removed]",
      "text/plain": [
       "<Figure size 640x480 with 1 Axes>"
      ]
     },
     "metadata": {},
     "output_type": "display_data"
    }
   ],
   "source": [
    "\n",
    "# Load data from the file\n",
    "df = pd.read_csv('roman-emperor-reigns.csv')\n",
    "\n",
    "# Create a pie chart for the fraction of assassinated Roman Emperors\n",
    "plt.pie(df['Cause_of_Death'].value_counts(), labels=df['Cause_of_Death'].value_counts().index, autopct='%1.1f%%', startangle=140)\n",
    "\n",
    "# Set aspect ratio to ensure the pie is drawn as a circle\n",
    "plt.axis('equal')\n",
    "\n",
    "# Add title\n",
    "plt.title('Fraction of Roman Emperors Assassinated')\n",
    "\n",
    "# Show the pie chart\n",
    "plt.show()"
   ]
  },
  {
   "cell_type": "markdown",
   "metadata": {},
   "source": [
    "Question 10\n",
    "\n",
    "Create a scatter plot showing the relationship between the total revenue earned by arcades and the number of Computer Science PhDs awarded in the U.S. between 2000 and 2009.\n",
    "\n",
    "Don't forget to label your axes!\n",
    "\n",
    "Color each dot according to its year."
   ]
  },
  {
   "cell_type": "code",
   "execution_count": 64,
   "metadata": {},
   "outputs": [
    {
     "data": {
      "image/png": "[encoded data removed]",
      "text/plain": [
       "<Figure size 1000x600 with 2 Axes>"
      ]
     },
     "metadata": {},
     "output_type": "display_data"
    }
   ],
   "source": [
    "# Load data from the file\n",
    "df = pd.read_csv('arcade-revenue-vs-cs-doctorates.csv')\n",
    "\n",
    "# Create a scatter plot\n",
    "plt.figure(figsize=(10, 6))\n",
    "scatter = plt.scatter(df['Total Arcade Revenue (billions)'], df['Computer Science Doctorates Awarded (US)'], c=df['Year'], cmap='viridis')\n",
    "\n",
    "# Add labels and title\n",
    "plt.xlabel('Total Arcade Revenue (billions)')\n",
    "plt.ylabel('Computer Science Doctorates Awarded (US)')\n",
    "plt.title('Relationship between Arcade Revenue and CS Doctorates (2000-2009)')\n",
    "\n",
    "# Add a colorbar to show the mapping of years\n",
    "plt.colorbar(scatter, label='Year')\n",
    "\n",
    "# Show the scatter plot\n",
    "plt.show()"
   ]
  }
 ],
 "metadata": {
  "kernelspec": {
   "display_name": "Python 3",
   "language": "python",
   "name": "python3"
  },
  "language_info": {
   "codemirror_mode": {
    "name": "ipython",
    "version": 3
   },
   "file_extension": ".py",
   "mimetype": "text/x-python",
   "name": "python",
   "nbconvert_exporter": "python",
   "pygments_lexer": "ipython3",
   "version": "3.11.5"
  }
 },
 "nbformat": 4,
 "nbformat_minor": 2
}
